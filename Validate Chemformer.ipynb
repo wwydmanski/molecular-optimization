{
 "cells": [
  {
   "cell_type": "code",
   "execution_count": 2,
   "id": "deac1c0f-a17b-4871-aabd-b4d2904640a0",
   "metadata": {},
   "outputs": [],
   "source": [
    "import pandas as pd\n",
    "import numpy as np\n",
    "import matplotlib.pyplot as plt\n",
    "import glob\n",
    "from pprint import pprint\n",
    "import tqdm\n",
    "\n",
    "from scipy.stats import chi2_contingency"
   ]
  },
  {
   "cell_type": "code",
   "execution_count": 3,
   "id": "00d5dc28-dc5e-4e68-85d0-0980e976ad29",
   "metadata": {},
   "outputs": [],
   "source": [
    "from rdkit import Chem"
   ]
  },
  {
   "cell_type": "code",
   "execution_count": 4,
   "id": "4148b099-3492-488f-ac92-84c57c17ef2d",
   "metadata": {},
   "outputs": [],
   "source": [
    "from molbart.decoder import DecodeSampler\n",
    "from molbart.tokeniser import MolEncTokeniser\n",
    "from molbart.models.pre_train import BARTModel\n",
    "\n",
    "import molbart.util as util\n",
    "import torch\n",
    "from molbart.data.datamodules import MoleculeDataModule\n",
    "\n",
    "from rdkit import Chem"
   ]
  },
  {
   "cell_type": "markdown",
   "id": "b5504a8c-e1b8-4430-9767-109ec308b77b",
   "metadata": {},
   "source": [
    "## Read ZINC smiles"
   ]
  },
  {
   "cell_type": "code",
   "execution_count": 5,
   "id": "fc995790-6463-4211-8d48-7cfc18487d98",
   "metadata": {},
   "outputs": [],
   "source": [
    "smiles_to_check = []\n",
    "with open(\"data/now.smi\", \"r\") as f:\n",
    "    smiles_to_check = f.readlines()"
   ]
  },
  {
   "cell_type": "code",
   "execution_count": 6,
   "id": "56678606-a8e8-449c-873a-17507e96ebd1",
   "metadata": {},
   "outputs": [],
   "source": [
    "smiles_to_check = [i.split()[0].strip() for i in smiles_to_check]"
   ]
  },
  {
   "cell_type": "markdown",
   "id": "a25a5da8-4a09-4ca8-8068-c1745f4c3996",
   "metadata": {},
   "source": [
    "## Read MU-targeting smiles (alternatively)"
   ]
  },
  {
   "cell_type": "code",
   "execution_count": 8,
   "id": "29c45e86-99c3-461a-b298-3bbf587c666d",
   "metadata": {},
   "outputs": [],
   "source": [
    "dframe = pd.read_csv(\"data/smiles_data.csv\")"
   ]
  },
  {
   "cell_type": "code",
   "execution_count": 32,
   "id": "f36b1c40-4ba2-405f-8e79-ec13ae2c43b3",
   "metadata": {},
   "outputs": [],
   "source": [
    "smiles_to_check = dframe[dframe[\"set\"]==\"val\"][\"smiles\"].values"
   ]
  },
  {
   "cell_type": "code",
   "execution_count": 31,
   "id": "4f3b6749-3245-4d86-97a7-74755cf127c5",
   "metadata": {},
   "outputs": [
    {
     "data": {
      "text/html": [
       "<div>\n",
       "<style scoped>\n",
       "    .dataframe tbody tr th:only-of-type {\n",
       "        vertical-align: middle;\n",
       "    }\n",
       "\n",
       "    .dataframe tbody tr th {\n",
       "        vertical-align: top;\n",
       "    }\n",
       "\n",
       "    .dataframe thead th {\n",
       "        text-align: right;\n",
       "    }\n",
       "</style>\n",
       "<table border=\"1\" class=\"dataframe\">\n",
       "  <thead>\n",
       "    <tr style=\"text-align: right;\">\n",
       "      <th></th>\n",
       "      <th>Unnamed: 0</th>\n",
       "      <th>smiles</th>\n",
       "      <th>fname</th>\n",
       "      <th>set</th>\n",
       "    </tr>\n",
       "  </thead>\n",
       "  <tbody>\n",
       "    <tr>\n",
       "      <th>0</th>\n",
       "      <td>0</td>\n",
       "      <td>c1ccccc1N(CNC2=O)C23CCN(CC3)C(=O)OCc4cccc(c4)O...</td>\n",
       "      <td>mu_human_IC50_binding_all_inactives_450_struct...</td>\n",
       "      <td>train</td>\n",
       "    </tr>\n",
       "    <tr>\n",
       "      <th>1</th>\n",
       "      <td>1</td>\n",
       "      <td>c1cccc(c12)n(c(=O)[nH]2)C3CCN(CC3)C(=O)OCc(c4)...</td>\n",
       "      <td>mu_human_IC50_binding_all_inactives_450_struct...</td>\n",
       "      <td>train</td>\n",
       "    </tr>\n",
       "    <tr>\n",
       "      <th>2</th>\n",
       "      <td>2</td>\n",
       "      <td>c1cccc(c12)n(c(=O)[nH]2)C3CCN(CC3)C(=O)OCc(c4)...</td>\n",
       "      <td>mu_human_IC50_binding_all_inactives_450_struct...</td>\n",
       "      <td>train</td>\n",
       "    </tr>\n",
       "    <tr>\n",
       "      <th>3</th>\n",
       "      <td>3</td>\n",
       "      <td>COc1cc(N)c(Cl)cc1C(=O)NCC[N@H+](C)C[C@H](CCCC2...</td>\n",
       "      <td>mu_human_IC50_binding_all_inactives_450_struct...</td>\n",
       "      <td>val</td>\n",
       "    </tr>\n",
       "    <tr>\n",
       "      <th>4</th>\n",
       "      <td>4</td>\n",
       "      <td>c1ccccc1N(CNC2=O)C23CCN(CC3)C(=O)OCc4cccc(c4)O...</td>\n",
       "      <td>mu_human_IC50_binding_all_inactives_450_struct...</td>\n",
       "      <td>train</td>\n",
       "    </tr>\n",
       "    <tr>\n",
       "      <th>...</th>\n",
       "      <td>...</td>\n",
       "      <td>...</td>\n",
       "      <td>...</td>\n",
       "      <td>...</td>\n",
       "    </tr>\n",
       "    <tr>\n",
       "      <th>71217</th>\n",
       "      <td>71217</td>\n",
       "      <td>C=CC[NH+](CC=C)CCOCCCc1ccccc1</td>\n",
       "      <td>mu_rat_Ki_all_inactives_1006_structures.sdf:428</td>\n",
       "      <td>train</td>\n",
       "    </tr>\n",
       "    <tr>\n",
       "      <th>71218</th>\n",
       "      <td>71218</td>\n",
       "      <td>C=CC[NH+](CC=C)CCOCCCc1ccccc1</td>\n",
       "      <td>mu_rat_Ki_all_inactives_1006_structures.sdf:428</td>\n",
       "      <td>train</td>\n",
       "    </tr>\n",
       "    <tr>\n",
       "      <th>71219</th>\n",
       "      <td>71219</td>\n",
       "      <td>C=CCN(CC=C)CCOC/C=C/c1ccccc1</td>\n",
       "      <td>mu_rat_Ki_all_inactives_1006_structures.sdf:644</td>\n",
       "      <td>train</td>\n",
       "    </tr>\n",
       "    <tr>\n",
       "      <th>71220</th>\n",
       "      <td>71220</td>\n",
       "      <td>C=CC[NH+](CC=C)CCOCCCc1ccccc1</td>\n",
       "      <td>mu_rat_Ki_all_inactives_1006_structures.sdf:428</td>\n",
       "      <td>train</td>\n",
       "    </tr>\n",
       "    <tr>\n",
       "      <th>71221</th>\n",
       "      <td>71221</td>\n",
       "      <td>C=CC[NH+](CC=C)CCOCCCc1ccccc1</td>\n",
       "      <td>mu_rat_Ki_all_inactives_1006_structures.sdf:428</td>\n",
       "      <td>train</td>\n",
       "    </tr>\n",
       "  </tbody>\n",
       "</table>\n",
       "<p>71222 rows × 4 columns</p>\n",
       "</div>"
      ],
      "text/plain": [
       "       Unnamed: 0                                             smiles  \\\n",
       "0               0  c1ccccc1N(CNC2=O)C23CCN(CC3)C(=O)OCc4cccc(c4)O...   \n",
       "1               1  c1cccc(c12)n(c(=O)[nH]2)C3CCN(CC3)C(=O)OCc(c4)...   \n",
       "2               2  c1cccc(c12)n(c(=O)[nH]2)C3CCN(CC3)C(=O)OCc(c4)...   \n",
       "3               3  COc1cc(N)c(Cl)cc1C(=O)NCC[N@H+](C)C[C@H](CCCC2...   \n",
       "4               4  c1ccccc1N(CNC2=O)C23CCN(CC3)C(=O)OCc4cccc(c4)O...   \n",
       "...           ...                                                ...   \n",
       "71217       71217                      C=CC[NH+](CC=C)CCOCCCc1ccccc1   \n",
       "71218       71218                      C=CC[NH+](CC=C)CCOCCCc1ccccc1   \n",
       "71219       71219                       C=CCN(CC=C)CCOC/C=C/c1ccccc1   \n",
       "71220       71220                      C=CC[NH+](CC=C)CCOCCCc1ccccc1   \n",
       "71221       71221                      C=CC[NH+](CC=C)CCOCCCc1ccccc1   \n",
       "\n",
       "                                                   fname    set  \n",
       "0      mu_human_IC50_binding_all_inactives_450_struct...  train  \n",
       "1      mu_human_IC50_binding_all_inactives_450_struct...  train  \n",
       "2      mu_human_IC50_binding_all_inactives_450_struct...  train  \n",
       "3      mu_human_IC50_binding_all_inactives_450_struct...    val  \n",
       "4      mu_human_IC50_binding_all_inactives_450_struct...  train  \n",
       "...                                                  ...    ...  \n",
       "71217    mu_rat_Ki_all_inactives_1006_structures.sdf:428  train  \n",
       "71218    mu_rat_Ki_all_inactives_1006_structures.sdf:428  train  \n",
       "71219    mu_rat_Ki_all_inactives_1006_structures.sdf:644  train  \n",
       "71220    mu_rat_Ki_all_inactives_1006_structures.sdf:428  train  \n",
       "71221    mu_rat_Ki_all_inactives_1006_structures.sdf:428  train  \n",
       "\n",
       "[71222 rows x 4 columns]"
      ]
     },
     "execution_count": 31,
     "metadata": {},
     "output_type": "execute_result"
    }
   ],
   "source": [
    "dframe"
   ]
  },
  {
   "cell_type": "markdown",
   "id": "87190f26-46c4-4e2f-95bd-0c61c8ba1d6f",
   "metadata": {},
   "source": [
    "## Load model"
   ]
  },
  {
   "cell_type": "code",
   "execution_count": 41,
   "id": "a38e71a0-8093-4219-aaa5-1b755b793593",
   "metadata": {},
   "outputs": [],
   "source": [
    "class Config:\n",
    "    # model_path=\"./pre-trained/mask/step=1000000.ckpt\"\n",
    "    model_path=\"./weights/mask/version_16/checkpoints/epoch=479-step=54719.ckpt\"\n",
    "\n",
    "tokeniser = util.load_tokeniser(\"/home/wwydmanski/Chemformer/bart_vocab.txt\", util.DEFAULT_CHEM_TOKEN_START)\n",
    "sampler = DecodeSampler(tokeniser, util.DEFAULT_MAX_SEQ_LEN)\n",
    "model = util.load_bart(Config, sampler)\n",
    "model = model.to('cuda:1')"
   ]
  },
  {
   "cell_type": "code",
   "execution_count": 42,
   "id": "7ddc1948-0404-4329-8446-08d3f0ee2ab5",
   "metadata": {
    "tags": []
   },
   "outputs": [],
   "source": [
    "def resample_molecule(smiles):\n",
    "    if type(smiles) is str:\n",
    "        smiles = [smiles]\n",
    "        \n",
    "    token_output = tokeniser.tokenise(smiles, pad=True)    \n",
    "    enc_token_ids = tokeniser.convert_tokens_to_ids(token_output['original_tokens'])\n",
    "\n",
    "    token_output[\"encoder_input\"] = torch.tensor(enc_token_ids).to('cuda:1').T\n",
    "    token_output[\"encoder_pad_mask\"] = torch.tensor(token_output[\"original_pad_masks\"]).to('cuda:1').T\n",
    "    token_output[\"decoder_input\"] = torch.tensor(enc_token_ids).to('cuda:1').T\n",
    "    token_output[\"decoder_pad_mask\"] = torch.tensor(token_output[\"original_pad_masks\"]).to('cuda:1').T\n",
    "    model.num_beams = 10\n",
    "    smiles_batch, log_lhs_batch = model.sample_molecules(token_output, \"beam\")\n",
    "    \n",
    "    return smiles_batch"
   ]
  },
  {
   "cell_type": "markdown",
   "id": "800657ca-58a0-4e51-a797-af2793e91c36",
   "metadata": {},
   "source": [
    "## Check seq2seq consistency"
   ]
  },
  {
   "cell_type": "code",
   "execution_count": 43,
   "id": "abe82e8d-0e5a-4f32-bf92-f06f4e8125c5",
   "metadata": {
    "tags": []
   },
   "outputs": [
    {
     "name": "stderr",
     "output_type": "stream",
     "text": [
      "  0%|                                                                                          | 0/1618 [00:00<?, ?it/s]/home/wwydmanski/.conda/envs/drug-design/lib/python3.7/site-packages/molbart/decoder.py:202: UserWarning: __floordiv__ is deprecated, and its behavior will change in a future version of pytorch. It currently rounds toward 0 (like the 'trunc' function NOT 'floor'). This results in incorrect rounding for negative values. To keep the current behavior, use torch.div(a, b, rounding_mode='trunc'), or for actual floor division, use torch.div(a, b, rounding_mode='floor').\n",
      "  beam_idxs_list = list((top_idxs // vocab_size).T)\n",
      "  0%|                                                                                          | 0/1618 [00:05<?, ?it/s]\n"
     ]
    },
    {
     "ename": "KeyboardInterrupt",
     "evalue": "",
     "output_type": "error",
     "traceback": [
      "\u001b[0;31m---------------------------------------------------------------------------\u001b[0m",
      "\u001b[0;31mKeyboardInterrupt\u001b[0m                         Traceback (most recent call last)",
      "\u001b[0;32m/tmp/ipykernel_3475813/4185525558.py\u001b[0m in \u001b[0;36m<module>\u001b[0;34m\u001b[0m\n\u001b[1;32m     11\u001b[0m     \u001b[0;32mfor\u001b[0m \u001b[0mi\u001b[0m \u001b[0;32min\u001b[0m \u001b[0mt\u001b[0m\u001b[0;34m:\u001b[0m\u001b[0;34m\u001b[0m\u001b[0;34m\u001b[0m\u001b[0m\n\u001b[1;32m     12\u001b[0m         \u001b[0msmiles\u001b[0m \u001b[0;34m=\u001b[0m \u001b[0msmiles_to_check\u001b[0m\u001b[0;34m[\u001b[0m\u001b[0mi\u001b[0m\u001b[0;34m:\u001b[0m\u001b[0mi\u001b[0m\u001b[0;34m+\u001b[0m\u001b[0mbatch_size\u001b[0m\u001b[0;34m]\u001b[0m\u001b[0;34m\u001b[0m\u001b[0;34m\u001b[0m\u001b[0m\n\u001b[0;32m---> 13\u001b[0;31m         \u001b[0mbatch\u001b[0m \u001b[0;34m=\u001b[0m \u001b[0mresample_molecule\u001b[0m\u001b[0;34m(\u001b[0m\u001b[0msmiles\u001b[0m\u001b[0;34m)\u001b[0m\u001b[0;34m\u001b[0m\u001b[0;34m\u001b[0m\u001b[0m\n\u001b[0m\u001b[1;32m     14\u001b[0m         \u001b[0;32mwith\u001b[0m \u001b[0mopen\u001b[0m\u001b[0;34m(\u001b[0m\u001b[0;34m\"res.tsv\"\u001b[0m\u001b[0;34m,\u001b[0m \u001b[0;34m\"a\"\u001b[0m\u001b[0;34m)\u001b[0m \u001b[0;32mas\u001b[0m \u001b[0mf\u001b[0m\u001b[0;34m:\u001b[0m\u001b[0;34m\u001b[0m\u001b[0;34m\u001b[0m\u001b[0m\n\u001b[1;32m     15\u001b[0m             \u001b[0;32mfor\u001b[0m \u001b[0msm\u001b[0m\u001b[0;34m,\u001b[0m \u001b[0mres\u001b[0m \u001b[0;32min\u001b[0m \u001b[0mzip\u001b[0m\u001b[0;34m(\u001b[0m\u001b[0msmiles\u001b[0m\u001b[0;34m,\u001b[0m \u001b[0mbatch\u001b[0m\u001b[0;34m)\u001b[0m\u001b[0;34m:\u001b[0m\u001b[0;34m\u001b[0m\u001b[0;34m\u001b[0m\u001b[0m\n",
      "\u001b[0;32m/tmp/ipykernel_3475813/3403531588.py\u001b[0m in \u001b[0;36mresample_molecule\u001b[0;34m(smiles)\u001b[0m\n\u001b[1;32m     11\u001b[0m     \u001b[0mtoken_output\u001b[0m\u001b[0;34m[\u001b[0m\u001b[0;34m\"decoder_pad_mask\"\u001b[0m\u001b[0;34m]\u001b[0m \u001b[0;34m=\u001b[0m \u001b[0mtorch\u001b[0m\u001b[0;34m.\u001b[0m\u001b[0mtensor\u001b[0m\u001b[0;34m(\u001b[0m\u001b[0mtoken_output\u001b[0m\u001b[0;34m[\u001b[0m\u001b[0;34m\"original_pad_masks\"\u001b[0m\u001b[0;34m]\u001b[0m\u001b[0;34m)\u001b[0m\u001b[0;34m.\u001b[0m\u001b[0mto\u001b[0m\u001b[0;34m(\u001b[0m\u001b[0;34m'cuda:1'\u001b[0m\u001b[0;34m)\u001b[0m\u001b[0;34m.\u001b[0m\u001b[0mT\u001b[0m\u001b[0;34m\u001b[0m\u001b[0;34m\u001b[0m\u001b[0m\n\u001b[1;32m     12\u001b[0m     \u001b[0mmodel\u001b[0m\u001b[0;34m.\u001b[0m\u001b[0mnum_beams\u001b[0m \u001b[0;34m=\u001b[0m \u001b[0;36m10\u001b[0m\u001b[0;34m\u001b[0m\u001b[0;34m\u001b[0m\u001b[0m\n\u001b[0;32m---> 13\u001b[0;31m     \u001b[0msmiles_batch\u001b[0m\u001b[0;34m,\u001b[0m \u001b[0mlog_lhs_batch\u001b[0m \u001b[0;34m=\u001b[0m \u001b[0mmodel\u001b[0m\u001b[0;34m.\u001b[0m\u001b[0msample_molecules\u001b[0m\u001b[0;34m(\u001b[0m\u001b[0mtoken_output\u001b[0m\u001b[0;34m,\u001b[0m \u001b[0;34m\"beam\"\u001b[0m\u001b[0;34m)\u001b[0m\u001b[0;34m\u001b[0m\u001b[0;34m\u001b[0m\u001b[0m\n\u001b[0m\u001b[1;32m     14\u001b[0m \u001b[0;34m\u001b[0m\u001b[0m\n\u001b[1;32m     15\u001b[0m     \u001b[0;32mreturn\u001b[0m \u001b[0msmiles_batch\u001b[0m\u001b[0;34m\u001b[0m\u001b[0;34m\u001b[0m\u001b[0m\n",
      "\u001b[0;32m~/.conda/envs/drug-design/lib/python3.7/site-packages/molbart/models/pre_train.py\u001b[0m in \u001b[0;36msample_molecules\u001b[0;34m(self, batch_input, sampling_alg)\u001b[0m\n\u001b[1;32m    547\u001b[0m \u001b[0;34m\u001b[0m\u001b[0m\n\u001b[1;32m    548\u001b[0m         \u001b[0;32melif\u001b[0m \u001b[0msampling_alg\u001b[0m \u001b[0;34m==\u001b[0m \u001b[0;34m\"beam\"\u001b[0m\u001b[0;34m:\u001b[0m\u001b[0;34m\u001b[0m\u001b[0;34m\u001b[0m\u001b[0m\n\u001b[0;32m--> 549\u001b[0;31m             \u001b[0mmol_strs\u001b[0m\u001b[0;34m,\u001b[0m \u001b[0mlog_lhs\u001b[0m \u001b[0;34m=\u001b[0m \u001b[0mself\u001b[0m\u001b[0;34m.\u001b[0m\u001b[0msampler\u001b[0m\u001b[0;34m.\u001b[0m\u001b[0mbeam_decode\u001b[0m\u001b[0;34m(\u001b[0m\u001b[0mdecode_fn\u001b[0m\u001b[0;34m,\u001b[0m \u001b[0mbatch_size\u001b[0m\u001b[0;34m,\u001b[0m \u001b[0mmemory\u001b[0m\u001b[0;34m.\u001b[0m\u001b[0mdevice\u001b[0m\u001b[0;34m,\u001b[0m \u001b[0mk\u001b[0m\u001b[0;34m=\u001b[0m\u001b[0mself\u001b[0m\u001b[0;34m.\u001b[0m\u001b[0mnum_beams\u001b[0m\u001b[0;34m)\u001b[0m\u001b[0;34m\u001b[0m\u001b[0;34m\u001b[0m\u001b[0m\n\u001b[0m\u001b[1;32m    550\u001b[0m \u001b[0;34m\u001b[0m\u001b[0m\n\u001b[1;32m    551\u001b[0m         \u001b[0;32melse\u001b[0m\u001b[0;34m:\u001b[0m\u001b[0;34m\u001b[0m\u001b[0;34m\u001b[0m\u001b[0m\n",
      "\u001b[0;32m~/.conda/envs/drug-design/lib/python3.7/site-packages/molbart/decoder.py\u001b[0m in \u001b[0;36mbeam_decode\u001b[0;34m(self, decode_fn, batch_size, device, k)\u001b[0m\n\u001b[1;32m    147\u001b[0m \u001b[0;34m\u001b[0m\u001b[0m\n\u001b[1;32m    148\u001b[0m         \u001b[0;32mfor\u001b[0m \u001b[0mi\u001b[0m \u001b[0;32min\u001b[0m \u001b[0mrange\u001b[0m\u001b[0;34m(\u001b[0m\u001b[0;36m2\u001b[0m\u001b[0;34m,\u001b[0m \u001b[0mself\u001b[0m\u001b[0;34m.\u001b[0m\u001b[0mmax_seq_len\u001b[0m\u001b[0;34m)\u001b[0m\u001b[0;34m:\u001b[0m\u001b[0;34m\u001b[0m\u001b[0;34m\u001b[0m\u001b[0m\n\u001b[0;32m--> 149\u001b[0;31m             \u001b[0mcomplete\u001b[0m \u001b[0;34m=\u001b[0m \u001b[0mself\u001b[0m\u001b[0;34m.\u001b[0m\u001b[0m_update_beams_\u001b[0m\u001b[0;34m(\u001b[0m\u001b[0mi\u001b[0m\u001b[0;34m,\u001b[0m \u001b[0mdecode_fn\u001b[0m\u001b[0;34m,\u001b[0m \u001b[0mtoken_ids_list\u001b[0m\u001b[0;34m,\u001b[0m \u001b[0mpad_mask_list\u001b[0m\u001b[0;34m,\u001b[0m \u001b[0mlls_list\u001b[0m\u001b[0;34m)\u001b[0m\u001b[0;34m\u001b[0m\u001b[0;34m\u001b[0m\u001b[0m\n\u001b[0m\u001b[1;32m    150\u001b[0m             \u001b[0;32mif\u001b[0m \u001b[0mcomplete\u001b[0m\u001b[0;34m:\u001b[0m\u001b[0;34m\u001b[0m\u001b[0;34m\u001b[0m\u001b[0m\n\u001b[1;32m    151\u001b[0m                 \u001b[0;32mbreak\u001b[0m\u001b[0;34m\u001b[0m\u001b[0;34m\u001b[0m\u001b[0m\n",
      "\u001b[0;32m~/.conda/envs/drug-design/lib/python3.7/site-packages/molbart/decoder.py\u001b[0m in \u001b[0;36m_update_beams_\u001b[0;34m(self, i, decode_fn, token_ids_list, pad_mask_list, lls_list)\u001b[0m\n\u001b[1;32m    190\u001b[0m         \u001b[0;31m# Apply current seqs to model to get a distribution over next tokens\u001b[0m\u001b[0;34m\u001b[0m\u001b[0;34m\u001b[0m\u001b[0;34m\u001b[0m\u001b[0m\n\u001b[1;32m    191\u001b[0m         \u001b[0;31m# new_lls is a tensor of shape [batch_size, vocab_size * num_beams]\u001b[0m\u001b[0;34m\u001b[0m\u001b[0;34m\u001b[0m\u001b[0;34m\u001b[0m\u001b[0m\n\u001b[0;32m--> 192\u001b[0;31m         \u001b[0mnew_lls\u001b[0m \u001b[0;34m=\u001b[0m \u001b[0;34m[\u001b[0m\u001b[0mself\u001b[0m\u001b[0;34m.\u001b[0m\u001b[0m_beam_step\u001b[0m\u001b[0;34m(\u001b[0m\u001b[0mdecode_fn\u001b[0m\u001b[0;34m,\u001b[0m \u001b[0mt\u001b[0m\u001b[0;34m,\u001b[0m \u001b[0mm\u001b[0m\u001b[0;34m,\u001b[0m \u001b[0mlls\u001b[0m\u001b[0;34m)\u001b[0m \u001b[0;32mfor\u001b[0m \u001b[0mt\u001b[0m\u001b[0;34m,\u001b[0m \u001b[0mm\u001b[0m\u001b[0;34m,\u001b[0m \u001b[0mlls\u001b[0m \u001b[0;32min\u001b[0m \u001b[0mzip\u001b[0m\u001b[0;34m(\u001b[0m\u001b[0mts\u001b[0m\u001b[0;34m,\u001b[0m \u001b[0mms\u001b[0m\u001b[0;34m,\u001b[0m \u001b[0mlls_list\u001b[0m\u001b[0;34m)\u001b[0m\u001b[0;34m]\u001b[0m\u001b[0;34m\u001b[0m\u001b[0;34m\u001b[0m\u001b[0m\n\u001b[0m\u001b[1;32m    193\u001b[0m         \u001b[0mnorm_lls\u001b[0m \u001b[0;34m=\u001b[0m \u001b[0;34m[\u001b[0m\u001b[0mself\u001b[0m\u001b[0;34m.\u001b[0m\u001b[0m_norm_length\u001b[0m\u001b[0;34m(\u001b[0m\u001b[0mlls\u001b[0m\u001b[0;34m,\u001b[0m \u001b[0mmask\u001b[0m\u001b[0;34m)\u001b[0m \u001b[0;32mfor\u001b[0m \u001b[0mlls\u001b[0m\u001b[0;34m,\u001b[0m \u001b[0mmask\u001b[0m \u001b[0;32min\u001b[0m \u001b[0mzip\u001b[0m\u001b[0;34m(\u001b[0m\u001b[0mnew_lls\u001b[0m\u001b[0;34m,\u001b[0m \u001b[0mms\u001b[0m\u001b[0;34m)\u001b[0m\u001b[0;34m]\u001b[0m\u001b[0;34m\u001b[0m\u001b[0;34m\u001b[0m\u001b[0m\n\u001b[1;32m    194\u001b[0m \u001b[0;34m\u001b[0m\u001b[0m\n",
      "\u001b[0;32m~/.conda/envs/drug-design/lib/python3.7/site-packages/molbart/decoder.py\u001b[0m in \u001b[0;36m<listcomp>\u001b[0;34m(.0)\u001b[0m\n\u001b[1;32m    190\u001b[0m         \u001b[0;31m# Apply current seqs to model to get a distribution over next tokens\u001b[0m\u001b[0;34m\u001b[0m\u001b[0;34m\u001b[0m\u001b[0;34m\u001b[0m\u001b[0m\n\u001b[1;32m    191\u001b[0m         \u001b[0;31m# new_lls is a tensor of shape [batch_size, vocab_size * num_beams]\u001b[0m\u001b[0;34m\u001b[0m\u001b[0;34m\u001b[0m\u001b[0;34m\u001b[0m\u001b[0m\n\u001b[0;32m--> 192\u001b[0;31m         \u001b[0mnew_lls\u001b[0m \u001b[0;34m=\u001b[0m \u001b[0;34m[\u001b[0m\u001b[0mself\u001b[0m\u001b[0;34m.\u001b[0m\u001b[0m_beam_step\u001b[0m\u001b[0;34m(\u001b[0m\u001b[0mdecode_fn\u001b[0m\u001b[0;34m,\u001b[0m \u001b[0mt\u001b[0m\u001b[0;34m,\u001b[0m \u001b[0mm\u001b[0m\u001b[0;34m,\u001b[0m \u001b[0mlls\u001b[0m\u001b[0;34m)\u001b[0m \u001b[0;32mfor\u001b[0m \u001b[0mt\u001b[0m\u001b[0;34m,\u001b[0m \u001b[0mm\u001b[0m\u001b[0;34m,\u001b[0m \u001b[0mlls\u001b[0m \u001b[0;32min\u001b[0m \u001b[0mzip\u001b[0m\u001b[0;34m(\u001b[0m\u001b[0mts\u001b[0m\u001b[0;34m,\u001b[0m \u001b[0mms\u001b[0m\u001b[0;34m,\u001b[0m \u001b[0mlls_list\u001b[0m\u001b[0;34m)\u001b[0m\u001b[0;34m]\u001b[0m\u001b[0;34m\u001b[0m\u001b[0;34m\u001b[0m\u001b[0m\n\u001b[0m\u001b[1;32m    193\u001b[0m         \u001b[0mnorm_lls\u001b[0m \u001b[0;34m=\u001b[0m \u001b[0;34m[\u001b[0m\u001b[0mself\u001b[0m\u001b[0;34m.\u001b[0m\u001b[0m_norm_length\u001b[0m\u001b[0;34m(\u001b[0m\u001b[0mlls\u001b[0m\u001b[0;34m,\u001b[0m \u001b[0mmask\u001b[0m\u001b[0;34m)\u001b[0m \u001b[0;32mfor\u001b[0m \u001b[0mlls\u001b[0m\u001b[0;34m,\u001b[0m \u001b[0mmask\u001b[0m \u001b[0;32min\u001b[0m \u001b[0mzip\u001b[0m\u001b[0;34m(\u001b[0m\u001b[0mnew_lls\u001b[0m\u001b[0;34m,\u001b[0m \u001b[0mms\u001b[0m\u001b[0;34m)\u001b[0m\u001b[0;34m]\u001b[0m\u001b[0;34m\u001b[0m\u001b[0;34m\u001b[0m\u001b[0m\n\u001b[1;32m    194\u001b[0m \u001b[0;34m\u001b[0m\u001b[0m\n",
      "\u001b[0;32m~/.conda/envs/drug-design/lib/python3.7/site-packages/molbart/decoder.py\u001b[0m in \u001b[0;36m_beam_step\u001b[0;34m(self, decode_fn, tokens, mask, lls)\u001b[0m\n\u001b[1;32m    270\u001b[0m \u001b[0;34m\u001b[0m\u001b[0m\n\u001b[1;32m    271\u001b[0m         \u001b[0moutput_dist\u001b[0m \u001b[0;34m=\u001b[0m \u001b[0mdecode_fn\u001b[0m\u001b[0;34m(\u001b[0m\u001b[0mtokens\u001b[0m\u001b[0;34m,\u001b[0m \u001b[0mmask\u001b[0m\u001b[0;34m)\u001b[0m\u001b[0;34m\u001b[0m\u001b[0;34m\u001b[0m\u001b[0m\n\u001b[0;32m--> 272\u001b[0;31m         \u001b[0mnext_token_lls\u001b[0m \u001b[0;34m=\u001b[0m \u001b[0moutput_dist\u001b[0m\u001b[0;34m[\u001b[0m\u001b[0;34m-\u001b[0m\u001b[0;36m1\u001b[0m\u001b[0;34m,\u001b[0m \u001b[0;34m:\u001b[0m\u001b[0;34m,\u001b[0m \u001b[0;34m:\u001b[0m\u001b[0;34m]\u001b[0m\u001b[0;34m.\u001b[0m\u001b[0mcpu\u001b[0m\u001b[0;34m(\u001b[0m\u001b[0;34m)\u001b[0m\u001b[0;34m\u001b[0m\u001b[0;34m\u001b[0m\u001b[0m\n\u001b[0m\u001b[1;32m    273\u001b[0m \u001b[0;34m\u001b[0m\u001b[0m\n\u001b[1;32m    274\u001b[0m         \u001b[0;31m# Create a vector from which only a pad token can be sampled\u001b[0m\u001b[0;34m\u001b[0m\u001b[0;34m\u001b[0m\u001b[0;34m\u001b[0m\u001b[0m\n",
      "\u001b[0;31mKeyboardInterrupt\u001b[0m: "
     ]
    }
   ],
   "source": [
    "batch_size = 8\n",
    "\n",
    "matching = 0\n",
    "valid_any = 0\n",
    "valid_rigorous = 0\n",
    "processed = 0\n",
    "with open(\"res.tsv\", \"w\") as f:\n",
    "    pass\n",
    "    \n",
    "with tqdm.trange(0, len(smiles_to_check), batch_size) as t:\n",
    "    for i in t:\n",
    "        smiles = smiles_to_check[i:i+batch_size]\n",
    "        batch = resample_molecule(smiles)\n",
    "        with open(\"res.tsv\", \"a\") as f:\n",
    "            for sm, res in zip(smiles, batch):\n",
    "                processed += 1\n",
    "                f.write(f\"{sm}\\t{res}\\n\")\n",
    "                if sm in res:\n",
    "                    matching += 1\n",
    "                    \n",
    "                if any(map(lambda x: Chem.MolFromSmiles(x) is not None, res)):\n",
    "                    valid_any += 1\n",
    "                    \n",
    "                if Chem.MolFromSmiles(res[0]) is not None:\n",
    "                    valid_rigorous += 1\n",
    "        with open(\"stats.tsv\", \"w\") as f:\n",
    "            f.write(str(matching/processed*100) + \"\\t\" + str(valid_any/processed*100) + \"\\t\" + str(valid_rigorous/processed*100))\n",
    "        t.set_postfix(accuracy=str(matching/processed*100), valid_any=valid_any/processed*100, valid_rigorous=valid_rigorous/processed*100)        "
   ]
  },
  {
   "cell_type": "code",
   "execution_count": 18,
   "id": "2e9ac29a-ce53-455f-9cc2-eece0270911d",
   "metadata": {},
   "outputs": [
    {
     "data": {
      "text/plain": [
       "array(['CC(C)(C)NC(=O)NC[C@H](C1)N(Cc(c12)cccc2)C(=S)NC[C@H]3CCCN3C(=O)Nc4ccccc4',\n",
       "       'c1ccccc1[C@H](CCCCC)[N@H+]2CC[C@H]2[C@H](N)c3cccc(Cl)c3',\n",
       "       'Clc1ccccc1C(c2ccccc2Cl)N(CC3)CCC34N(CNC4=O)c5ccccc5',\n",
       "       'Clc1ccccc1C(c2ccccc2Cl)N(CC3)CCC34N(CNC4=O)c5ccccc5',\n",
       "       'C1CCC[C@H]([C@@H]12)N(C(=O)N2)[C@@H]3CC[N@H+](CC3)CC4CCCCCCC4',\n",
       "       'FC(F)(F)c1ccc(cc1)N2CCN(CC2)Cc(c[nH]3)c(c34)cccn4',\n",
       "       'c1cc(F)cc(c12)N(C(=O)CC(=O)N2)[C@@H]3CC[N@H+](CC3)C4CCCCCCC4',\n",
       "       'c1cc(F)cc(c12)N(C(=O)CC(=O)N2)[C@@H]3CC[N@H+](CC3)C4CCCCCCC4'],\n",
       "      dtype=object)"
      ]
     },
     "execution_count": 18,
     "metadata": {},
     "output_type": "execute_result"
    }
   ],
   "source": [
    "smiles"
   ]
  },
  {
   "cell_type": "code",
   "execution_count": 37,
   "id": "11e34805-6dfc-461c-b027-a98e48753866",
   "metadata": {},
   "outputs": [],
   "source": [
    "sampled_smiles = [mols[0] for mols in batch]\n",
    "target_smiles = smiles"
   ]
  },
  {
   "cell_type": "code",
   "execution_count": 40,
   "id": "a91ff058-b407-46fa-9633-2fee0de2bc9f",
   "metadata": {},
   "outputs": [
    {
     "data": {
      "text/plain": [
       "{'top_1_accuracy': 0.0,\n",
       " 'invalid': 0.875,\n",
       " 'top_2_accuracy': 0.0,\n",
       " 'top_3_accuracy': 0.0,\n",
       " 'top_5_accuracy': 0.0,\n",
       " 'top_10_accuracy': 0.0}"
      ]
     },
     "execution_count": 40,
     "metadata": {},
     "output_type": "execute_result"
    }
   ],
   "source": [
    "model.sampler.calc_sampling_metrics(batch, smiles)"
   ]
  },
  {
   "cell_type": "code",
   "execution_count": 39,
   "id": "088804d5-6c6b-4d18-93ae-ba6cf71df13c",
   "metadata": {},
   "outputs": [
    {
     "data": {
      "text/plain": [
       "0.875"
      ]
     },
     "execution_count": 39,
     "metadata": {},
     "output_type": "execute_result"
    }
   ],
   "source": [
    "perc_invalid"
   ]
  }
 ],
 "metadata": {
  "kernelspec": {
   "display_name": "drug-design",
   "language": "python",
   "name": "drug-design"
  },
  "language_info": {
   "codemirror_mode": {
    "name": "ipython",
    "version": 3
   },
   "file_extension": ".py",
   "mimetype": "text/x-python",
   "name": "python",
   "nbconvert_exporter": "python",
   "pygments_lexer": "ipython3",
   "version": "3.7.11"
  }
 },
 "nbformat": 4,
 "nbformat_minor": 5
}
