{
 "cells": [
  {
   "cell_type": "code",
   "execution_count": 2,
   "id": "deac1c0f-a17b-4871-aabd-b4d2904640a0",
   "metadata": {
    "tags": []
   },
   "outputs": [],
   "source": [
    "import pandas as pd\n",
    "import numpy as np\n",
    "import matplotlib.pyplot as plt\n",
    "import glob\n",
    "from pprint import pprint\n",
    "import tqdm\n",
    "\n",
    "from scipy.stats import chi2_contingency"
   ]
  },
  {
   "cell_type": "code",
   "execution_count": 3,
   "id": "00d5dc28-dc5e-4e68-85d0-0980e976ad29",
   "metadata": {},
   "outputs": [],
   "source": [
    "from rdkit import Chem"
   ]
  },
  {
   "cell_type": "markdown",
   "id": "aec3b43c-e509-4a0d-8d6e-f0a3e1c7085c",
   "metadata": {},
   "source": [
    "## Read data"
   ]
  },
  {
   "cell_type": "code",
   "execution_count": 18,
   "id": "fc995790-6463-4211-8d48-7cfc18487d98",
   "metadata": {},
   "outputs": [],
   "source": [
    "dframe = pd.read_csv(\"data/smiles_data.csv\")\n",
    "smiles_to_check = dframe[\"smiles\"].values"
   ]
  },
  {
   "cell_type": "code",
   "execution_count": 5,
   "id": "6065936d-1ae2-46b0-b967-5afaaada4d73",
   "metadata": {},
   "outputs": [],
   "source": [
    "# dframe = pd.read_csv(\"data/processed_DILI.csv\")\n",
    "# dframe = dframe[[\"COMPOUND_NAME\", \"DILI_CONCERN\", \"SMILES\"]].dropna()\n",
    "# dframe = dframe[dframe[\"SMILES\"].str.len()<510].reset_index(drop=True)\n",
    "# smiles_to_check = dframe[\"SMILES\"].values"
   ]
  },
  {
   "cell_type": "markdown",
   "id": "ede151ff-d4aa-435b-bbdd-4c588e01b6f2",
   "metadata": {},
   "source": [
    "### Neural network"
   ]
  },
  {
   "cell_type": "code",
   "execution_count": 19,
   "id": "4148b099-3492-488f-ac92-84c57c17ef2d",
   "metadata": {},
   "outputs": [],
   "source": [
    "from molbart.decoder import DecodeSampler\n",
    "from molbart.tokeniser import MolEncTokeniser\n",
    "from molbart.models.pre_train import BARTModel\n",
    "\n",
    "import molbart.util as util\n",
    "import torch\n",
    "from molbart.data.datamodules import MoleculeDataModule\n",
    "\n",
    "from rdkit import Chem"
   ]
  },
  {
   "cell_type": "code",
   "execution_count": 20,
   "id": "56678606-a8e8-449c-873a-17507e96ebd1",
   "metadata": {},
   "outputs": [],
   "source": [
    "smiles_to_check = [i.split()[0].strip() for i in smiles_to_check]"
   ]
  },
  {
   "cell_type": "code",
   "execution_count": 8,
   "id": "a38e71a0-8093-4219-aaa5-1b755b793593",
   "metadata": {},
   "outputs": [],
   "source": [
    "class Config:\n",
    "    model_path=\"./weights/mask/version_16/checkpoints/epoch=479-step=54719.ckpt\"\n",
    "\n",
    "tokeniser = util.load_tokeniser(\"/home/wwydmanski/Chemformer/bart_vocab.txt\", util.DEFAULT_CHEM_TOKEN_START)\n",
    "sampler = DecodeSampler(tokeniser, util.DEFAULT_MAX_SEQ_LEN)\n",
    "model = util.load_bart(Config, sampler)\n",
    "model = model.cuda()"
   ]
  },
  {
   "cell_type": "code",
   "execution_count": 9,
   "id": "7ddc1948-0404-4329-8446-08d3f0ee2ab5",
   "metadata": {
    "tags": []
   },
   "outputs": [],
   "source": [
    "def resample_molecule(smiles):\n",
    "    if type(smiles) is str:\n",
    "        smiles = [smiles]\n",
    "        \n",
    "    token_output = tokeniser.tokenise(smiles, pad=True)    \n",
    "    enc_token_ids = tokeniser.convert_tokens_to_ids(token_output['original_tokens'])\n",
    "\n",
    "    token_output[\"encoder_input\"] = torch.tensor(enc_token_ids).cuda().T\n",
    "    token_output[\"encoder_pad_mask\"] = torch.tensor(token_output[\"original_pad_masks\"]).cuda().T\n",
    "    token_output[\"decoder_input\"] = torch.tensor(enc_token_ids).cuda().T\n",
    "    token_output[\"decoder_pad_mask\"] = torch.tensor(token_output[\"original_pad_masks\"]).cuda().T\n",
    "    model.num_beams = 15\n",
    "    smiles_batch, log_lhs_batch = model.sample_molecules(token_output, \"beam\")\n",
    "    \n",
    "    return smiles_batch"
   ]
  },
  {
   "cell_type": "code",
   "execution_count": 22,
   "id": "abe82e8d-0e5a-4f32-bf92-f06f4e8125c5",
   "metadata": {
    "tags": []
   },
   "outputs": [
    {
     "name": "stderr",
     "output_type": "stream",
     "text": [
      "  0%|                                                                                         | 0/71222 [00:00<?, ?it/s]\n"
     ]
    }
   ],
   "source": [
    "batch_size = 1\n",
    "\n",
    "matching = 0\n",
    "data = []\n",
    "\n",
    "for i in tqdm.trange(0, len(smiles_to_check), batch_size):\n",
    "    smiles = smiles_to_check[i:(i+1)*batch_size]\n",
    "    token_output = tokeniser.tokenise(smiles, pad=True)    \n",
    "    enc_token_ids = tokeniser.convert_tokens_to_ids(token_output['original_tokens'])\n",
    "\n",
    "    token_output[\"encoder_input\"] = torch.tensor(enc_token_ids).cuda().T\n",
    "    token_output[\"encoder_pad_mask\"] = torch.tensor(token_output[\"original_pad_masks\"]).cuda().T\n",
    "    token_output[\"decoder_input\"] = torch.tensor(enc_token_ids).cuda().T\n",
    "    token_output[\"decoder_pad_mask\"] = torch.tensor(token_output[\"original_pad_masks\"]).cuda().T\n",
    "    \n",
    "    encoder_input = token_output[\"encoder_input\"]\n",
    "    encoder_pad_mask = token_output[\"encoder_pad_mask\"].transpose(0, 1)\n",
    "    encoder_embs = model._construct_input(encoder_input)\n",
    "    \n",
    "    batch = model.encoder(encoder_embs)\n",
    "    \n",
    "    del token_output\n",
    "    del encoder_embs\n",
    "    \n",
    "    data.append(batch.detach().cpu().numpy()[-1, 0])\n",
    "    break"
   ]
  },
  {
   "cell_type": "code",
   "execution_count": 23,
   "id": "94f9557f-cce4-4dd9-a335-f7a9a725b21c",
   "metadata": {},
   "outputs": [
    {
     "data": {
      "text/plain": [
       "['c1ccccc1N(CNC2=O)C23CCN(CC3)C(=O)OCc4cccc(c4)Oc5ccccc5']"
      ]
     },
     "execution_count": 10,
     "metadata": {},
     "output_type": "execute_result"
    }
   ],
   "source": [
    "smiles"
   ]
  },
  {
   "cell_type": "code",
   "execution_count": 24,
   "id": "f7d9a158-4482-4444-aa74-d7f3a533160a",
   "metadata": {},
   "outputs": [
    {
     "data": {
      "text/plain": [
       "[array([ 2.06473321e-02, -1.02492990e-02,  9.93479192e-02,  3.19700055e-02,\n",
       "         3.52170616e-02, -5.97350001e-02,  1.21315187e-02, -9.39642265e-03,\n",
       "        -6.60165399e-02, -3.63618508e-02,  3.70051824e-02, -8.04902837e-02,\n",
       "         1.14619769e-02, -5.19984215e-02, -6.30246773e-02,  3.13120596e-02,\n",
       "         6.21142685e-02, -6.46388158e-02, -5.95768467e-02, -7.02935830e-02,\n",
       "         5.13490513e-02,  1.26066431e-02, -4.52264361e-02, -4.94012348e-02,\n",
       "        -1.10522863e-02,  6.39816523e-02, -2.10183915e-02,  1.82645880e-02,\n",
       "         4.56356816e-02, -2.21182797e-02,  3.09556946e-02,  7.65324850e-03,\n",
       "         1.80826709e-02,  3.54681090e-02,  5.51509671e-02,  4.70067112e-04,\n",
       "        -8.01686794e-02,  1.68720018e-02,  6.54568300e-02,  9.73046497e-02,\n",
       "         1.36657311e-02,  1.34002836e-02, -7.79754296e-03, -1.06223756e-02,\n",
       "        -4.38270383e-02, -3.78769152e-02, -1.03812804e-02,  8.56769644e-03,\n",
       "         3.68353054e-02, -9.49761197e-02, -1.08982055e-02,  1.56069919e-02,\n",
       "        -1.88361760e-02,  6.49376810e-02, -7.01154722e-03,  2.38664839e-02,\n",
       "         1.82750374e-02,  4.64901589e-02,  4.80766073e-02,  8.40671593e-04,\n",
       "         5.72104436e-05,  6.58330694e-02,  3.31293121e-02,  6.68904046e-03,\n",
       "         5.26594780e-02,  1.43046363e-03,  1.81088177e-03,  9.23748463e-02,\n",
       "        -7.28298575e-02, -9.45642404e-03,  3.22692133e-02, -7.03792572e-02,\n",
       "        -2.07606435e-01,  5.32205030e-02, -8.35705027e-02,  1.33033982e-02,\n",
       "         4.84623946e-02, -5.95925376e-03,  3.35440114e-02,  2.37245578e-02,\n",
       "        -1.80948451e-02, -4.22339477e-02, -2.08247863e-02, -1.79346260e-02,\n",
       "         3.35801393e-02, -6.62676850e-03, -2.12675501e-02, -2.08095424e-02,\n",
       "        -1.06853396e-02, -3.29021215e-02,  1.09010324e-01, -2.63448944e-03,\n",
       "        -2.19182689e-02,  2.97779702e-02,  4.26620431e-02, -1.39044635e-02,\n",
       "         8.03822428e-02, -3.76656763e-02, -5.73570058e-02,  1.18934279e-02,\n",
       "        -4.40575778e-02,  2.86332648e-02, -2.36728806e-02, -5.01461513e-02,\n",
       "        -1.81670375e-02,  1.36870235e-01,  2.71100421e-02,  1.29550854e-02,\n",
       "        -3.21174599e-02, -7.15973824e-02,  8.91960226e-03,  1.02751076e-01,\n",
       "         2.80371625e-02,  1.25191540e-01, -7.46820122e-02, -9.97245237e-02,\n",
       "        -5.90496361e-02,  2.91395895e-02, -2.78574735e-01,  3.70598510e-02,\n",
       "         6.01063762e-03, -3.11349146e-02, -5.99485263e-03, -9.59822610e-02,\n",
       "        -5.71243279e-02,  1.99240725e-02, -4.46486548e-02,  1.04958184e-01,\n",
       "        -1.11641400e-02,  2.69102529e-02,  8.21425987e-04,  3.03754658e-02,\n",
       "        -4.07621339e-02, -6.04631156e-02, -4.36786525e-02, -4.72418442e-02,\n",
       "        -2.01047678e-02, -2.25291863e-01, -2.52607055e-02,  9.63232201e-03,\n",
       "        -2.13709436e-02,  5.34355827e-02,  6.06928915e-02, -2.46375829e-01,\n",
       "        -7.62029365e-02, -2.83441022e-02,  4.06881385e-02, -2.30512936e-02,\n",
       "        -2.22793072e-02,  3.74919586e-02, -3.78225371e-02,  3.12899649e-02,\n",
       "        -6.10059202e-02,  7.14990422e-02, -4.14500609e-02, -1.76744517e-02,\n",
       "         1.02493325e-02,  4.46643122e-02, -1.44672439e-01, -6.79401457e-02,\n",
       "        -4.56256792e-02, -2.20633671e-02, -2.20384598e-02,  1.38201555e-02,\n",
       "         6.84245210e-03,  8.51813331e-02,  6.68871626e-02, -5.87380454e-02,\n",
       "         2.72760503e-02, -1.69319101e-02,  6.86673224e-02, -1.05306515e-02,\n",
       "         3.97338644e-02,  6.14634976e-02, -6.20023087e-02,  4.27415445e-02,\n",
       "        -1.18503990e-02,  9.55733731e-02,  4.60831411e-02,  1.43237310e-02,\n",
       "        -3.98627184e-02,  4.28557303e-03, -1.44479856e-01, -4.86116223e-02,\n",
       "         6.02187915e-03, -2.53359377e-02,  3.93393219e-01,  8.40195492e-02,\n",
       "         1.11789398e-01, -4.37685363e-02,  1.19594922e-02, -4.82624955e-02,\n",
       "         6.44551143e-02,  3.69253457e-02,  3.82313170e-02, -3.01929414e-01,\n",
       "        -2.25972775e-02, -8.33822135e-03, -6.61998913e-02, -5.08400090e-02,\n",
       "         1.31654805e-02, -3.37149389e-03,  2.11511310e-02, -1.12425229e-02,\n",
       "         5.40344743e-03, -9.08020288e-02, -1.89307287e-01,  8.27158540e-02,\n",
       "         3.26106027e-02, -6.94027394e-02,  3.01484764e-02,  1.02196351e-01,\n",
       "        -2.00355034e-02, -1.89950168e-02,  5.42605743e-02,  7.79835694e-03,\n",
       "         6.08195253e-02,  1.54410610e-02, -4.10131216e-02,  3.96712534e-02,\n",
       "         7.13010803e-02,  7.62914494e-02, -1.07725048e-02,  5.48063926e-02,\n",
       "        -5.46232276e-02,  5.16635887e-02,  4.84434590e-02,  1.41597642e-02,\n",
       "        -1.32393595e-02, -3.35981920e-02,  8.63266438e-02,  9.62476246e-03,\n",
       "         2.42930371e-02,  6.63120151e-02,  1.86000373e-02, -6.59061596e-02,\n",
       "         5.05590951e-03,  1.17856702e-02, -6.30564168e-02,  3.30274254e-02,\n",
       "         1.51656964e-03,  3.10811843e-03, -2.70900894e-02, -1.10261538e-03,\n",
       "        -1.39128923e-01,  7.14718970e-03, -9.34861880e-03, -1.84345692e-02,\n",
       "         2.52331793e-02, -8.54659751e-02,  7.90201947e-02, -7.30850315e-03,\n",
       "        -2.99325027e-02,  2.29811724e-02, -1.10799007e-01,  6.94814250e-02,\n",
       "         6.92366436e-02, -8.93991366e-02, -1.42470384e-02, -5.44106625e-02,\n",
       "        -4.78577353e-02,  1.49672274e-02,  4.96437140e-02, -1.12822643e-02,\n",
       "        -1.58298388e-02, -2.33508144e-02, -1.32008269e-02,  3.08946911e-02,\n",
       "        -2.12572236e-02, -3.49578969e-02,  1.91051420e-02, -2.93614641e-02,\n",
       "         6.42202888e-03, -5.90052381e-02, -9.87111703e-02,  7.72894546e-02,\n",
       "         9.00563374e-02,  1.84976198e-02,  7.80664906e-02,  1.98649205e-02,\n",
       "         6.14441745e-02,  4.37205061e-02, -1.73186779e-03, -6.97075725e-02,\n",
       "         5.49609847e-02,  1.38116693e-02,  5.45167597e-03,  5.38305454e-02,\n",
       "        -9.94034484e-03,  9.32242125e-02,  1.54130748e-02, -8.04453902e-03,\n",
       "         2.29227301e-02, -1.23012044e-01, -4.77664582e-02,  9.98656452e-02,\n",
       "         6.28154725e-02,  5.73017597e-02,  3.14791016e-02,  8.14498365e-02,\n",
       "        -1.21317152e-03, -2.48876959e-02,  6.65765554e-02,  9.41535905e-02,\n",
       "         6.35699928e-02,  9.66183655e-03, -2.02845111e-02,  2.45618052e-03,\n",
       "         1.08840773e-02,  6.17464371e-02,  3.63436341e-02,  8.11477005e-02,\n",
       "        -7.08317310e-02,  3.59010696e-02,  6.16115564e-03, -6.98614046e-02,\n",
       "         2.05421019e-02, -2.04324219e-02,  6.10862300e-02, -6.42632367e-03,\n",
       "        -4.67428975e-02,  3.28970440e-02, -5.88327944e-02, -1.92893501e-02,\n",
       "        -7.00401217e-02,  6.82292357e-02, -4.39175144e-02, -1.27744908e-02,\n",
       "         6.01547733e-02,  4.81641032e-02, -1.60172712e-02, -8.16295594e-02,\n",
       "        -1.48782106e-02, -4.63669002e-03, -7.73780048e-02, -9.01200995e-02,\n",
       "         5.94995953e-02,  4.25882898e-02, -5.77338673e-02,  1.75920967e-02,\n",
       "        -2.88315266e-02,  1.93196721e-02,  5.28038852e-02, -3.82894278e-02,\n",
       "         4.36061658e-02,  6.08340465e-02,  3.07134688e-02, -3.32991406e-02,\n",
       "         2.05713720e-03, -9.44680274e-02,  3.85865420e-02, -3.55651602e-02,\n",
       "        -4.60618585e-02,  1.24630081e-02,  1.22588485e-01,  1.42990248e-02,\n",
       "         4.55726646e-02,  1.39323268e-02,  6.44454807e-02, -4.68792655e-02,\n",
       "         4.35287468e-02, -8.33676308e-02,  1.54753134e-01, -8.64289328e-03,\n",
       "         6.17408305e-02, -5.14986068e-02,  4.89814728e-02, -2.38726035e-01,\n",
       "         7.79855400e-02, -4.64002788e-02,  2.03835294e-02, -1.12378165e-01,\n",
       "        -1.00123417e-02, -8.32583308e-02,  5.86527884e-02, -1.11884348e-01,\n",
       "         6.39915019e-02,  3.93972136e-02,  2.00207089e-03,  5.36749698e-02,\n",
       "        -3.30408588e-02, -3.97788547e-02,  3.55585255e-02,  1.54682487e-01,\n",
       "         2.21539568e-02, -6.30817413e-02, -2.01641545e-02,  8.31777416e-03,\n",
       "         2.69505996e-02,  3.73064494e-03,  2.01505348e-02,  6.81510568e-02,\n",
       "         5.85954413e-02, -1.70558058e-02,  9.70543772e-02, -2.32554711e-02,\n",
       "        -1.22709898e-02,  7.77155086e-02, -1.17398955e-01,  9.98848528e-02,\n",
       "         1.67957172e-02, -6.31179288e-02,  1.31099403e-01, -1.35955602e-01,\n",
       "         2.82682590e-02, -9.55383480e-03,  8.37023109e-02,  3.87185067e-02,\n",
       "        -2.08012993e-03,  4.82149869e-02,  5.85563369e-02, -3.34370025e-02,\n",
       "        -4.33552377e-02, -7.03071952e-02, -8.15725401e-02,  2.62711942e-02,\n",
       "        -3.87003422e-02, -4.25292924e-03, -5.98630216e-03, -2.04512984e-01,\n",
       "         3.96638028e-02, -8.83242711e-02, -4.12812978e-02,  5.64025603e-02,\n",
       "        -9.81895160e-03,  1.51571045e-02,  2.03598514e-02,  2.30884440e-02,\n",
       "        -2.12746207e-03, -2.25609224e-02,  3.36421020e-02, -5.59691712e-02,\n",
       "        -6.65042102e-02,  6.31119460e-02,  6.74827695e-02,  5.27430438e-02,\n",
       "         3.88699025e-02,  5.08888299e-03,  1.78518649e-02,  4.17759828e-02,\n",
       "         1.45668164e-01, -5.81963509e-02,  1.13877356e-02,  4.34095711e-02,\n",
       "         7.87477493e-02, -7.79306442e-02,  4.88283746e-02,  6.64437935e-02,\n",
       "         7.81177655e-02, -2.51714326e-02,  5.90981357e-03,  9.26152095e-02,\n",
       "         4.11927737e-02,  7.31876791e-02,  2.67024711e-02,  3.49149853e-02,\n",
       "        -2.02982556e-02,  6.08683610e-03, -1.42045125e-01,  3.15218908e-03,\n",
       "         2.61991713e-02, -5.16818604e-03, -1.28820553e-01, -8.94385427e-02,\n",
       "         1.42933344e-02, -1.34715764e-02,  4.88779545e-02,  6.47415891e-02,\n",
       "        -4.65702303e-02,  4.18067016e-02, -8.64580423e-02, -2.87444331e-02,\n",
       "         1.68950036e-02,  2.92827142e-03,  7.95247480e-02,  6.90455809e-02,\n",
       "        -9.60374773e-02, -1.12547971e-01, -7.33699948e-02,  3.14389020e-02,\n",
       "         9.03018713e-02,  4.69301920e-03,  1.22430705e-01,  6.90976307e-02,\n",
       "        -1.21932989e-02, -2.55144350e-02, -4.68742438e-02,  6.99044690e-02,\n",
       "        -3.42604518e-02,  2.44998117e-03, -7.96340927e-02,  5.69375679e-02,\n",
       "         7.84559846e-02, -9.90906119e-05, -5.19678071e-02, -5.08608937e-04,\n",
       "         2.22003926e-03, -2.22215224e-02,  3.44807771e-03,  8.84404127e-03,\n",
       "         3.55060101e-02, -2.81547606e-02,  1.58002283e-02, -6.80118846e-03,\n",
       "        -4.34539467e-02, -5.42927161e-02, -1.32549619e-02, -4.31224816e-02,\n",
       "         5.10280877e-02, -7.39222169e-02,  3.19126360e-02,  4.03649323e-02],\n",
       "       dtype=float32)]"
      ]
     },
     "execution_count": 11,
     "metadata": {},
     "output_type": "execute_result"
    }
   ],
   "source": [
    "data"
   ]
  },
  {
   "cell_type": "code",
   "execution_count": 11,
   "id": "1101f15c-4628-4bd0-b6c7-bf2e47331a8c",
   "metadata": {},
   "outputs": [],
   "source": [
    "data = [row.tolist() for row in data]"
   ]
  },
  {
   "cell_type": "code",
   "execution_count": 12,
   "id": "b561b9cb-a7a5-4452-bdcf-a3d355d04f17",
   "metadata": {},
   "outputs": [
    {
     "ename": "ValueError",
     "evalue": "Length of values (1) does not match length of index (389)",
     "output_type": "error",
     "traceback": [
      "\u001b[0;31m---------------------------------------------------------------------------\u001b[0m",
      "\u001b[0;31mValueError\u001b[0m                                Traceback (most recent call last)",
      "\u001b[0;32m/tmp/ipykernel_1608158/3129740784.py\u001b[0m in \u001b[0;36m<module>\u001b[0;34m\u001b[0m\n\u001b[0;32m----> 1\u001b[0;31m \u001b[0mdframe\u001b[0m\u001b[0;34m[\u001b[0m\u001b[0;34m\"embeddings\"\u001b[0m\u001b[0;34m]\u001b[0m \u001b[0;34m=\u001b[0m \u001b[0;34m[\u001b[0m\u001b[0mstr\u001b[0m\u001b[0;34m(\u001b[0m\u001b[0mrow\u001b[0m\u001b[0;34m)\u001b[0m \u001b[0;32mfor\u001b[0m \u001b[0mrow\u001b[0m \u001b[0;32min\u001b[0m \u001b[0mdata\u001b[0m\u001b[0;34m]\u001b[0m\u001b[0;34m\u001b[0m\u001b[0;34m\u001b[0m\u001b[0m\n\u001b[0m",
      "\u001b[0;32m~/.conda/envs/drug-design/lib/python3.7/site-packages/pandas/core/frame.py\u001b[0m in \u001b[0;36m__setitem__\u001b[0;34m(self, key, value)\u001b[0m\n\u001b[1;32m   3610\u001b[0m         \u001b[0;32melse\u001b[0m\u001b[0;34m:\u001b[0m\u001b[0;34m\u001b[0m\u001b[0;34m\u001b[0m\u001b[0m\n\u001b[1;32m   3611\u001b[0m             \u001b[0;31m# set column\u001b[0m\u001b[0;34m\u001b[0m\u001b[0;34m\u001b[0m\u001b[0;34m\u001b[0m\u001b[0m\n\u001b[0;32m-> 3612\u001b[0;31m             \u001b[0mself\u001b[0m\u001b[0;34m.\u001b[0m\u001b[0m_set_item\u001b[0m\u001b[0;34m(\u001b[0m\u001b[0mkey\u001b[0m\u001b[0;34m,\u001b[0m \u001b[0mvalue\u001b[0m\u001b[0;34m)\u001b[0m\u001b[0;34m\u001b[0m\u001b[0;34m\u001b[0m\u001b[0m\n\u001b[0m\u001b[1;32m   3613\u001b[0m \u001b[0;34m\u001b[0m\u001b[0m\n\u001b[1;32m   3614\u001b[0m     \u001b[0;32mdef\u001b[0m \u001b[0m_setitem_slice\u001b[0m\u001b[0;34m(\u001b[0m\u001b[0mself\u001b[0m\u001b[0;34m,\u001b[0m \u001b[0mkey\u001b[0m\u001b[0;34m:\u001b[0m \u001b[0mslice\u001b[0m\u001b[0;34m,\u001b[0m \u001b[0mvalue\u001b[0m\u001b[0;34m)\u001b[0m\u001b[0;34m:\u001b[0m\u001b[0;34m\u001b[0m\u001b[0;34m\u001b[0m\u001b[0m\n",
      "\u001b[0;32m~/.conda/envs/drug-design/lib/python3.7/site-packages/pandas/core/frame.py\u001b[0m in \u001b[0;36m_set_item\u001b[0;34m(self, key, value)\u001b[0m\n\u001b[1;32m   3782\u001b[0m         \u001b[0mensure\u001b[0m \u001b[0mhomogeneity\u001b[0m\u001b[0;34m.\u001b[0m\u001b[0;34m\u001b[0m\u001b[0;34m\u001b[0m\u001b[0m\n\u001b[1;32m   3783\u001b[0m         \"\"\"\n\u001b[0;32m-> 3784\u001b[0;31m         \u001b[0mvalue\u001b[0m \u001b[0;34m=\u001b[0m \u001b[0mself\u001b[0m\u001b[0;34m.\u001b[0m\u001b[0m_sanitize_column\u001b[0m\u001b[0;34m(\u001b[0m\u001b[0mvalue\u001b[0m\u001b[0;34m)\u001b[0m\u001b[0;34m\u001b[0m\u001b[0;34m\u001b[0m\u001b[0m\n\u001b[0m\u001b[1;32m   3785\u001b[0m \u001b[0;34m\u001b[0m\u001b[0m\n\u001b[1;32m   3786\u001b[0m         if (\n",
      "\u001b[0;32m~/.conda/envs/drug-design/lib/python3.7/site-packages/pandas/core/frame.py\u001b[0m in \u001b[0;36m_sanitize_column\u001b[0;34m(self, value)\u001b[0m\n\u001b[1;32m   4507\u001b[0m \u001b[0;34m\u001b[0m\u001b[0m\n\u001b[1;32m   4508\u001b[0m         \u001b[0;32mif\u001b[0m \u001b[0mis_list_like\u001b[0m\u001b[0;34m(\u001b[0m\u001b[0mvalue\u001b[0m\u001b[0;34m)\u001b[0m\u001b[0;34m:\u001b[0m\u001b[0;34m\u001b[0m\u001b[0;34m\u001b[0m\u001b[0m\n\u001b[0;32m-> 4509\u001b[0;31m             \u001b[0mcom\u001b[0m\u001b[0;34m.\u001b[0m\u001b[0mrequire_length_match\u001b[0m\u001b[0;34m(\u001b[0m\u001b[0mvalue\u001b[0m\u001b[0;34m,\u001b[0m \u001b[0mself\u001b[0m\u001b[0;34m.\u001b[0m\u001b[0mindex\u001b[0m\u001b[0;34m)\u001b[0m\u001b[0;34m\u001b[0m\u001b[0;34m\u001b[0m\u001b[0m\n\u001b[0m\u001b[1;32m   4510\u001b[0m         \u001b[0;32mreturn\u001b[0m \u001b[0msanitize_array\u001b[0m\u001b[0;34m(\u001b[0m\u001b[0mvalue\u001b[0m\u001b[0;34m,\u001b[0m \u001b[0mself\u001b[0m\u001b[0;34m.\u001b[0m\u001b[0mindex\u001b[0m\u001b[0;34m,\u001b[0m \u001b[0mcopy\u001b[0m\u001b[0;34m=\u001b[0m\u001b[0;32mTrue\u001b[0m\u001b[0;34m,\u001b[0m \u001b[0mallow_2d\u001b[0m\u001b[0;34m=\u001b[0m\u001b[0;32mTrue\u001b[0m\u001b[0;34m)\u001b[0m\u001b[0;34m\u001b[0m\u001b[0;34m\u001b[0m\u001b[0m\n\u001b[1;32m   4511\u001b[0m \u001b[0;34m\u001b[0m\u001b[0m\n",
      "\u001b[0;32m~/.conda/envs/drug-design/lib/python3.7/site-packages/pandas/core/common.py\u001b[0m in \u001b[0;36mrequire_length_match\u001b[0;34m(data, index)\u001b[0m\n\u001b[1;32m    530\u001b[0m     \u001b[0;32mif\u001b[0m \u001b[0mlen\u001b[0m\u001b[0;34m(\u001b[0m\u001b[0mdata\u001b[0m\u001b[0;34m)\u001b[0m \u001b[0;34m!=\u001b[0m \u001b[0mlen\u001b[0m\u001b[0;34m(\u001b[0m\u001b[0mindex\u001b[0m\u001b[0;34m)\u001b[0m\u001b[0;34m:\u001b[0m\u001b[0;34m\u001b[0m\u001b[0;34m\u001b[0m\u001b[0m\n\u001b[1;32m    531\u001b[0m         raise ValueError(\n\u001b[0;32m--> 532\u001b[0;31m             \u001b[0;34m\"Length of values \"\u001b[0m\u001b[0;34m\u001b[0m\u001b[0;34m\u001b[0m\u001b[0m\n\u001b[0m\u001b[1;32m    533\u001b[0m             \u001b[0;34mf\"({len(data)}) \"\u001b[0m\u001b[0;34m\u001b[0m\u001b[0;34m\u001b[0m\u001b[0m\n\u001b[1;32m    534\u001b[0m             \u001b[0;34m\"does not match length of index \"\u001b[0m\u001b[0;34m\u001b[0m\u001b[0;34m\u001b[0m\u001b[0m\n",
      "\u001b[0;31mValueError\u001b[0m: Length of values (1) does not match length of index (389)"
     ]
    }
   ],
   "source": [
    "dframe[\"embeddings\"] = [str(row) for row in data]"
   ]
  },
  {
   "cell_type": "code",
   "execution_count": 46,
   "id": "81bf64a8-40da-4330-87b1-b59369f30c60",
   "metadata": {},
   "outputs": [],
   "source": [
    "# dframe.to_csv(\"data/mu_embeddings.csv\")"
   ]
  },
  {
   "cell_type": "code",
   "execution_count": 45,
   "id": "00e95c41-a28f-4531-a653-3ffd3e846aa2",
   "metadata": {},
   "outputs": [],
   "source": [
    "val_set_frac = 0.1\n",
    "val_idx = np.random.randint(len(dframe), size=int(len(dframe)*val_set_frac))\n",
    "\n",
    "dframe[\"set\"] = \"train\"\n",
    "dframe.loc[val_idx, \"set\"] = \"val\"\n",
    "\n",
    "dframe.to_csv(\"data/DILI_embeddings.csv\")"
   ]
  }
 ],
 "metadata": {
  "kernelspec": {
   "display_name": "drug-design",
   "language": "python",
   "name": "drug-design"
  },
  "language_info": {
   "codemirror_mode": {
    "name": "ipython",
    "version": 3
   },
   "file_extension": ".py",
   "mimetype": "text/x-python",
   "name": "python",
   "nbconvert_exporter": "python",
   "pygments_lexer": "ipython3",
   "version": "3.7.11"
  }
 },
 "nbformat": 4,
 "nbformat_minor": 5
}
