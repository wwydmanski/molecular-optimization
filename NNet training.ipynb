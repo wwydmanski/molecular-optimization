{
 "cells": [
  {
   "cell_type": "code",
   "execution_count": 1,
   "id": "cf2bf15f-e4cf-4fe3-a6cb-906df20c8afe",
   "metadata": {},
   "outputs": [],
   "source": [
    "from comet_ml import Experiment, Optimizer\n",
    "\n",
    "import pandas as pd\n",
    "import json\n",
    "import re\n",
    "import numpy as np\n",
    "\n",
    "from sklearn.model_selection import train_test_split\n",
    "from xgboost import XGBClassifier\n",
    "\n",
    "import torch\n",
    "import torch.nn as nn\n",
    "import torch.optim as optim\n",
    "\n",
    "import tqdm\n",
    "import glob\n",
    "\n",
    "from pipe import where"
   ]
  },
  {
   "cell_type": "markdown",
   "id": "5cb81861-6e37-45b0-8fd2-e7d8466d6bfa",
   "metadata": {},
   "source": [
    "## Read data\n",
    "Choose one of the two - Mu-related or DILI molecules and go forth"
   ]
  },
  {
   "cell_type": "code",
   "execution_count": 2,
   "id": "129c935b-e00d-4ca2-924e-dad9aad834b2",
   "metadata": {},
   "outputs": [],
   "source": [
    "pattern = re.compile(\"(\\d)\\s+\")\n",
    "def decode_string(x):\n",
    "    split = re.sub(pattern, r\"\\1,\", x).replace(\"[\", \"\").replace(\"]\", \"\").strip().split(\",\")\n",
    "    try:\n",
    "        return [float(i) for i in split if len(i)>0]\n",
    "    except ValueError as e:\n",
    "        print(split)\n",
    "        raise e"
   ]
  },
  {
   "cell_type": "markdown",
   "id": "5e0e1f49-c55b-41c8-8daa-531a63b794f8",
   "metadata": {},
   "source": [
    "### MU-related molecules"
   ]
  },
  {
   "cell_type": "code",
   "execution_count": 5,
   "id": "549a5fb2-0470-43e1-83ef-60f9aea41c55",
   "metadata": {},
   "outputs": [],
   "source": [
    "data = pd.read_csv(\"data/mu_embeddings.csv\").drop_duplicates(subset=[\"smiles\"])\n",
    "embeddings = data[\"embeddings\"].apply(decode_string)\n",
    "del data[\"embeddings\"]\n",
    "\n",
    "active = data[\"fname\"].apply(lambda x: \"inactives\" not in x)\n",
    "X, y = np.array(embeddings.to_list()), active.values.astype(int)"
   ]
  },
  {
   "cell_type": "markdown",
   "id": "7313c142-2f50-420c-8e05-5deadf748ddc",
   "metadata": {},
   "source": [
    "## MU-related fingerprints"
   ]
  },
  {
   "cell_type": "code",
   "execution_count": null,
   "id": "2d6e6334-c1a3-4d2e-94a4-427b2d1dc370",
   "metadata": {},
   "outputs": [],
   "source": []
  },
  {
   "cell_type": "markdown",
   "id": "9642baea-608b-4797-b6e5-b2bf7b881f9b",
   "metadata": {},
   "source": [
    "### DILI molecules"
   ]
  },
  {
   "cell_type": "code",
   "execution_count": 51,
   "id": "21124936-2b98-409c-8df0-84c37a71c52b",
   "metadata": {
    "tags": []
   },
   "outputs": [],
   "source": [
    "data = pd.read_csv(\"data/DILI_embeddings.csv\")\n",
    "embeddings = data[\"embeddings\"].apply(decode_string)\n",
    "del data[\"embeddings\"]\n",
    "\n",
    "active = data[\"DILI_CONCERN\"].apply(lambda x: x.lower() not in [\"no-dili-concern\", \"less-dili-doncern\"])\n",
    "X, y = np.array(embeddings.to_list()), active.values.astype(int)"
   ]
  },
  {
   "cell_type": "markdown",
   "id": "fe0e9146-aab7-4ec4-abc4-3a0cffcd25bf",
   "metadata": {
    "tags": []
   },
   "source": [
    "### ZINC molecules"
   ]
  },
  {
   "cell_type": "markdown",
   "id": "bf90c4c0-901e-4f1f-915c-e68e771a5cc6",
   "metadata": {},
   "source": [
    "#### Chemformer model"
   ]
  },
  {
   "cell_type": "code",
   "execution_count": 48,
   "id": "e3fa58f5-129c-48cc-853d-f54ef1ff67d9",
   "metadata": {},
   "outputs": [],
   "source": [
    "from molbart.decoder import DecodeSampler\n",
    "from molbart.tokeniser import MolEncTokeniser\n",
    "from molbart.models.pre_train import BARTModel\n",
    "\n",
    "import molbart.util as util\n",
    "import torch\n",
    "from molbart.data.datamodules import MoleculeDataModule\n",
    "\n",
    "from rdkit import Chem"
   ]
  },
  {
   "cell_type": "code",
   "execution_count": 49,
   "id": "7174cb14-ccb0-442e-908f-1fc4700b6d55",
   "metadata": {},
   "outputs": [],
   "source": [
    "class Config:\n",
    "    model_path=\"./weights/mask/version_16/checkpoints/epoch=479-step=54719.ckpt\"\n",
    "\n",
    "tokeniser = util.load_tokeniser(\"/home/wwydmanski/Chemformer/bart_vocab.txt\", util.DEFAULT_CHEM_TOKEN_START)\n",
    "sampler = DecodeSampler(tokeniser, util.DEFAULT_MAX_SEQ_LEN)\n",
    "chemformer = util.load_bart(Config, sampler)\n",
    "chemformer = chemformer.cuda()"
   ]
  },
  {
   "cell_type": "code",
   "execution_count": 50,
   "id": "d1aef3c4-510b-4f0a-84cb-754db7b1116e",
   "metadata": {},
   "outputs": [],
   "source": [
    "def encode(smiles):\n",
    "    token_output = tokeniser.tokenise(smiles, pad=True)    \n",
    "    enc_token_ids = tokeniser.convert_tokens_to_ids(token_output['original_tokens'])\n",
    "\n",
    "    token_output[\"encoder_input\"] = torch.tensor(enc_token_ids).cuda().T\n",
    "    token_output[\"encoder_pad_mask\"] = torch.tensor(token_output[\"original_pad_masks\"]).cuda().T\n",
    "    token_output[\"decoder_input\"] = torch.tensor(enc_token_ids).cuda().T\n",
    "    token_output[\"decoder_pad_mask\"] = torch.tensor(token_output[\"original_pad_masks\"]).cuda().T\n",
    "    \n",
    "    encoder_input = token_output[\"encoder_input\"]\n",
    "    encoder_pad_mask = token_output[\"encoder_pad_mask\"].transpose(0, 1)\n",
    "    encoder_embs = chemformer._construct_input(encoder_input)\n",
    "    return encoder_embs.detach().cpu().numpy()[-1]"
   ]
  },
  {
   "cell_type": "markdown",
   "id": "a5bd1532-e265-49db-95a7-ad5e6f9e7c09",
   "metadata": {},
   "source": [
    "#### Molecules themselves"
   ]
  },
  {
   "cell_type": "code",
   "execution_count": 9,
   "id": "a6e7091b-8c69-4738-bac0-7da0e2581faf",
   "metadata": {},
   "outputs": [],
   "source": [
    "smiles_to_check = []\n",
    "with open(\"data/now.smi\", \"r\") as f:\n",
    "    smiles_to_check = f.readlines()"
   ]
  },
  {
   "cell_type": "code",
   "execution_count": 10,
   "id": "2e66e5f5-90af-4c6f-8edf-dba784116d39",
   "metadata": {},
   "outputs": [],
   "source": [
    "zinc_selected = np.random.choice(smiles_to_check, X.shape[0])"
   ]
  },
  {
   "cell_type": "code",
   "execution_count": 11,
   "id": "efae35c2-6be8-4133-8a28-f3e362c48c05",
   "metadata": {},
   "outputs": [],
   "source": [
    "embedded_zinc = []\n",
    "for i in range(0, len(zinc_selected), 32):\n",
    "    embedded = encode(zinc_selected[i:i+32])\n",
    "    embedded_zinc.extend(embedded)\n",
    "embedded_zinc = np.array(embedded_zinc)"
   ]
  },
  {
   "cell_type": "code",
   "execution_count": 12,
   "id": "e83a6e0d-f803-455d-ad7f-ca2d8a0e9641",
   "metadata": {},
   "outputs": [],
   "source": [
    "y_stacked = np.stack([np.ones(len(y)), y], axis=1)\n",
    "y_zeroed = np.zeros(y_stacked.shape)"
   ]
  },
  {
   "cell_type": "code",
   "execution_count": 13,
   "id": "6ce6d7ba-0c26-4f3d-a97d-231017854d3a",
   "metadata": {},
   "outputs": [],
   "source": [
    "y = np.concatenate((y_stacked, y_zeroed))"
   ]
  },
  {
   "cell_type": "code",
   "execution_count": 14,
   "id": "056c6759-f146-409e-b7d8-2e84ff93985f",
   "metadata": {},
   "outputs": [],
   "source": [
    "X = np.concatenate((X, embedded_zinc))"
   ]
  },
  {
   "cell_type": "markdown",
   "id": "8131cec1-3c5f-4ab7-8eb8-e5aee88a49d4",
   "metadata": {
    "tags": []
   },
   "source": [
    "## Preprocess "
   ]
  },
  {
   "cell_type": "code",
   "execution_count": 52,
   "id": "0b866573-4a90-49d7-bb78-98101501ca85",
   "metadata": {},
   "outputs": [],
   "source": [
    "# train_idx = np.where(data[\"set\"]==\"train\")[0]\n",
    "test_idx = np.where(data[\"set\"]==\"val\")[0]\n",
    "# train_idx = np.where(data[\"set\"]!=\"val\")[0]\n",
    "train_idx = [i for i in np.arange(len(X)) if i not in test_idx]"
   ]
  },
  {
   "cell_type": "code",
   "execution_count": 53,
   "id": "6ed5060d-f3c1-4bc5-9610-82bde2592df8",
   "metadata": {},
   "outputs": [
    {
     "data": {
      "text/plain": [
       "(352,)"
      ]
     },
     "execution_count": 53,
     "metadata": {},
     "output_type": "execute_result"
    }
   ],
   "source": [
    "y[train_idx].shape"
   ]
  },
  {
   "cell_type": "code",
   "execution_count": 54,
   "id": "130b00a0-b7c2-4750-85ed-01b17c5d7c85",
   "metadata": {},
   "outputs": [],
   "source": [
    "X_train, X_test, y_train, y_test = train_test_split(X[train_idx], y[train_idx], test_size=0.2, random_state=42)"
   ]
  },
  {
   "cell_type": "code",
   "execution_count": 55,
   "id": "85f403f0-592c-4d4b-b083-dbda7f2229a3",
   "metadata": {},
   "outputs": [],
   "source": [
    "from sklearn.metrics import precision_score, recall_score, f1_score, accuracy_score\n",
    "\n",
    "def test_model(model, X_test, y_test, verbose=True):\n",
    "    y_hat = model.predict(X_test)\n",
    "    if verbose:\n",
    "        print(f\"Accuracy: {accuracy_score(y_hat, y_test):.3f}\")\n",
    "        print(f\"Precision: {precision_score(y_hat, y_test):.3f}\")\n",
    "        print(f\"Recall: {recall_score(y_hat, y_test):.3f}\")    \n",
    "        print(f\"F1: {f1_score(y_hat, y_test):.3f}\")    \n",
    "    return accuracy_score(y_hat, y_test)"
   ]
  },
  {
   "cell_type": "code",
   "execution_count": 56,
   "id": "b065b94c-ee50-4e94-8843-68ffceed0122",
   "metadata": {},
   "outputs": [
    {
     "data": {
      "text/plain": [
       "0.5"
      ]
     },
     "execution_count": 56,
     "metadata": {},
     "output_type": "execute_result"
    }
   ],
   "source": [
    "accuracy_score([[0, 1], [1, 1]], [[0, 1], [1, 0]])"
   ]
  },
  {
   "cell_type": "markdown",
   "id": "eebd759a-ae71-455d-91cd-748fdb6fc000",
   "metadata": {},
   "source": [
    "## XGBoost benchmark"
   ]
  },
  {
   "cell_type": "code",
   "execution_count": 58,
   "id": "25fe2048-24f0-4006-9e6a-69e55589b5e7",
   "metadata": {},
   "outputs": [
    {
     "name": "stderr",
     "output_type": "stream",
     "text": [
      "/home/wwydmanski/.conda/envs/drug-design/lib/python3.7/site-packages/xgboost/sklearn.py:1224: UserWarning: The use of label encoder in XGBClassifier is deprecated and will be removed in a future release. To remove this warning, do the following: 1) Pass option use_label_encoder=False when constructing XGBClassifier object; and 2) Encode your labels (y) as integers starting with 0, i.e. 0, 1, 2, ..., [num_class - 1].\n",
      "  warnings.warn(label_encoder_deprecation_msg, UserWarning)\n",
      "/home/wwydmanski/.conda/envs/drug-design/lib/python3.7/site-packages/xgboost/training.py:17: UserWarning: Old style callback is deprecated.  See: https://xgboost.readthedocs.io/en/latest/python/callbacks.html\n",
      "  warnings.warn(f'Old style callback is deprecated.  See: {link}', UserWarning)\n",
      "COMET WARNING: You must install graphviz to plot tree\n"
     ]
    }
   ],
   "source": [
    "clf = XGBClassifier()\n",
    "clf.fit(X_train, y_train);"
   ]
  },
  {
   "cell_type": "code",
   "execution_count": 59,
   "id": "f2448b2f-ee98-460a-8555-e9457d712f64",
   "metadata": {},
   "outputs": [
    {
     "name": "stdout",
     "output_type": "stream",
     "text": [
      "Accuracy: 0.803\n",
      "Precision: 0.962\n",
      "Recall: 0.806\n",
      "F1: 0.877\n"
     ]
    }
   ],
   "source": [
    "test_model(clf, X_test, y_test);"
   ]
  },
  {
   "cell_type": "code",
   "execution_count": 61,
   "id": "81294bcd-ad46-486f-b7de-4645bad0da4a",
   "metadata": {},
   "outputs": [
    {
     "data": {
      "text/plain": [
       "(71,)"
      ]
     },
     "execution_count": 61,
     "metadata": {},
     "output_type": "execute_result"
    }
   ],
   "source": [
    "y_test.shape"
   ]
  },
  {
   "cell_type": "code",
   "execution_count": 62,
   "id": "261ba64f-1835-4676-838d-dd743b04e13e",
   "metadata": {
    "collapsed": true,
    "jupyter": {
     "outputs_hidden": true
    },
    "tags": []
   },
   "outputs": [
    {
     "name": "stdout",
     "output_type": "stream",
     "text": [
      "62\n"
     ]
    },
    {
     "data": {
      "text/plain": [
       "array([[2.3046851e-02, 9.7695315e-01],\n",
       "       [2.8699040e-03, 9.9713010e-01],\n",
       "       [3.9042616e-01, 6.0957384e-01],\n",
       "       [1.8119669e-01, 8.1880331e-01],\n",
       "       [2.9633194e-01, 7.0366806e-01],\n",
       "       [1.1512935e-01, 8.8487065e-01],\n",
       "       [2.4365187e-03, 9.9756348e-01],\n",
       "       [5.9616566e-03, 9.9403834e-01],\n",
       "       [5.3336293e-01, 4.6663707e-01],\n",
       "       [8.9834929e-03, 9.9101651e-01],\n",
       "       [8.2092106e-01, 1.7907891e-01],\n",
       "       [6.1320180e-01, 3.8679820e-01],\n",
       "       [1.1513281e-01, 8.8486719e-01],\n",
       "       [9.2691064e-02, 9.0730894e-01],\n",
       "       [8.9067221e-04, 9.9910933e-01],\n",
       "       [4.8994422e-03, 9.9510056e-01],\n",
       "       [5.9622526e-03, 9.9403775e-01],\n",
       "       [7.3650479e-03, 9.9263495e-01],\n",
       "       [3.4923375e-02, 9.6507663e-01],\n",
       "       [2.9396236e-02, 9.7060376e-01],\n",
       "       [3.8867879e-01, 6.1132121e-01],\n",
       "       [5.5081129e-02, 9.4491887e-01],\n",
       "       [3.3316016e-02, 9.6668398e-01],\n",
       "       [3.2240748e-03, 9.9677593e-01],\n",
       "       [9.9140406e-04, 9.9900860e-01],\n",
       "       [5.1727116e-02, 9.4827288e-01],\n",
       "       [2.6222467e-03, 9.9737775e-01],\n",
       "       [1.5003681e-03, 9.9849963e-01],\n",
       "       [1.4594197e-02, 9.8540580e-01],\n",
       "       [8.7185502e-03, 9.9128145e-01],\n",
       "       [4.5641965e-01, 5.4358035e-01],\n",
       "       [5.0361395e-02, 9.4963861e-01],\n",
       "       [9.1698170e-03, 9.9083018e-01],\n",
       "       [1.1529076e-01, 8.8470924e-01],\n",
       "       [6.2645018e-02, 9.3735498e-01],\n",
       "       [9.7855127e-01, 2.1448702e-02],\n",
       "       [1.4737833e-01, 8.5262167e-01],\n",
       "       [2.1226406e-03, 9.9787736e-01],\n",
       "       [6.5062582e-02, 9.3493742e-01],\n",
       "       [6.7683458e-03, 9.9323165e-01],\n",
       "       [5.3579807e-03, 9.9464202e-01],\n",
       "       [4.5979023e-03, 9.9540210e-01],\n",
       "       [4.5941591e-02, 9.5405841e-01],\n",
       "       [7.2504628e-01, 2.7495369e-01],\n",
       "       [4.3257004e-01, 5.6742996e-01],\n",
       "       [6.4953923e-02, 9.3504608e-01],\n",
       "       [9.3406498e-02, 9.0659350e-01],\n",
       "       [2.7628958e-02, 9.7237104e-01],\n",
       "       [1.7160773e-03, 9.9828392e-01],\n",
       "       [6.3644350e-02, 9.3635565e-01],\n",
       "       [7.6662600e-02, 9.2333740e-01],\n",
       "       [3.3733487e-02, 9.6626651e-01],\n",
       "       [9.8612261e-01, 1.3877391e-02],\n",
       "       [5.4444754e-01, 4.5555243e-01],\n",
       "       [5.6651831e-03, 9.9433482e-01],\n",
       "       [2.2358358e-02, 9.7764164e-01],\n",
       "       [7.7772003e-01, 2.2227995e-01],\n",
       "       [9.8145485e-02, 9.0185452e-01],\n",
       "       [6.5076172e-02, 9.3492383e-01],\n",
       "       [3.3149600e-02, 9.6685040e-01],\n",
       "       [6.0396194e-03, 9.9396038e-01],\n",
       "       [3.1950474e-03, 9.9680495e-01],\n",
       "       [5.5701137e-03, 9.9442989e-01],\n",
       "       [6.5505409e-01, 3.4494594e-01],\n",
       "       [4.6884477e-02, 9.5311552e-01],\n",
       "       [1.1735559e-03, 9.9882644e-01],\n",
       "       [1.8967390e-03, 9.9810326e-01],\n",
       "       [3.5685956e-01, 6.4314044e-01],\n",
       "       [1.3799012e-02, 9.8620099e-01],\n",
       "       [3.1211293e-01, 6.8788707e-01],\n",
       "       [4.9100637e-02, 9.5089936e-01]], dtype=float32)"
      ]
     },
     "execution_count": 62,
     "metadata": {},
     "output_type": "execute_result"
    }
   ],
   "source": [
    "print(clf.predict(X_test).sum())\n",
    "clf.predict_proba(X_test)"
   ]
  },
  {
   "cell_type": "markdown",
   "id": "787ae7b6-7424-4047-aeb5-73d2ab9787c9",
   "metadata": {},
   "source": [
    "## Neural net training"
   ]
  },
  {
   "cell_type": "markdown",
   "id": "402b180a-fa15-4b18-9b01-cec668e4c540",
   "metadata": {},
   "source": [
    "### Preprocess data for pytorch"
   ]
  },
  {
   "cell_type": "code",
   "execution_count": 63,
   "id": "6d0283eb-b5d2-40bd-9518-8e2cebe76160",
   "metadata": {},
   "outputs": [],
   "source": [
    "batch_size = 16"
   ]
  },
  {
   "cell_type": "code",
   "execution_count": 64,
   "id": "4692369e-a10c-4a51-baa3-d5817082f194",
   "metadata": {},
   "outputs": [],
   "source": [
    "trainset = torch.utils.data.TensorDataset(torch.Tensor(X_train), torch.Tensor(y_train).reshape((-1, 1)))\n",
    "trainloader = torch.utils.data.DataLoader(trainset, batch_size=batch_size,\n",
    "                                          shuffle=True)\n",
    "\n",
    "testset = torch.utils.data.TensorDataset(torch.Tensor(X_test), torch.Tensor(y_test).reshape((-1, 1)))\n",
    "testloader = torch.utils.data.DataLoader(testset, batch_size=batch_size,\n",
    "                                          shuffle=True)"
   ]
  },
  {
   "cell_type": "code",
   "execution_count": 66,
   "id": "5a2ea61b-1f0e-4a80-a910-fa8c0abe6b70",
   "metadata": {},
   "outputs": [],
   "source": [
    "class BindingPredictor(nn.Module):\n",
    "    def __init__(self):\n",
    "        super().__init__()\n",
    "        self.network = nn.Sequential(\n",
    "            nn.Linear(512, 256),\n",
    "            nn.ReLU(),\n",
    "            \n",
    "            nn.Linear(256, 256),\n",
    "            nn.Dropout(),\n",
    "            nn.ReLU(),\n",
    "            \n",
    "            nn.Linear(256, 256),\n",
    "            nn.Dropout(),\n",
    "            nn.ReLU(),\n",
    "            nn.BatchNorm1d(256),\n",
    "            \n",
    "            nn.Linear(256, 32),\n",
    "            nn.ReLU(),\n",
    "            \n",
    "            nn.Linear(32, 1),\n",
    "            nn.Sigmoid()\n",
    "        ).cuda()\n",
    "    \n",
    "    def parameters(self):\n",
    "        return self.network.parameters()\n",
    "    \n",
    "    def forward(self, X):\n",
    "        return self.network(X)\n",
    "    \n",
    "    def to(self, *args, **kwargs):\n",
    "        self.network.to(*args, **kwargs)\n",
    "        super().to(*args, **kwargs)\n",
    "    \n",
    "    def predict(self, X):\n",
    "        res = self.network(torch.Tensor(X).cuda())\n",
    "        res = res.round().to(torch.int)\n",
    "        return res.cpu().detach().numpy()\n",
    "    \n",
    "    def proba(self, X):\n",
    "        res = self.network(torch.Tensor(X).cuda())\n",
    "        return res.cpu().detach().numpy()"
   ]
  },
  {
   "cell_type": "code",
   "execution_count": 67,
   "id": "34c206cd-36f3-4b80-912b-0b9b1aa15396",
   "metadata": {},
   "outputs": [
    {
     "name": "stderr",
     "output_type": "stream",
     "text": [
      "COMET INFO: ---------------------------\n",
      "COMET INFO: Comet.ml Experiment Summary\n",
      "COMET INFO: ---------------------------\n",
      "COMET INFO:   Data:\n",
      "COMET INFO:     display_summary_level : 1\n",
      "COMET INFO:     url                   : https://www.comet.ml/wwydmanski/ml-in-drugs/ef8955ca4d654c6d9af9d8182e71f9e4\n",
      "COMET INFO:   Metrics [count] (min, max):\n",
      "COMET INFO:     loss [1580]      : (0.014111906290054321, 0.723167896270752)\n",
      "COMET INFO:     test_acc [100]   : (0.7735025783419278, 0.9135263784212614)\n",
      "COMET INFO:     train_loss [100] : (8.486693243030459, 45.89101906120777)\n",
      "COMET INFO:   Parameters:\n",
      "COMET INFO:     begin_iteration : 0\n",
      "COMET INFO:     end_iteration   : 100\n",
      "COMET INFO:     lr              : 0.0003\n",
      "COMET INFO:     objective       : binary:logistic\n",
      "COMET INFO:     rank            : 0\n",
      "COMET INFO:   Uploads:\n",
      "COMET INFO:     environment details : 1\n",
      "COMET INFO:     filename            : 1\n",
      "COMET INFO:     installed packages  : 1\n",
      "COMET INFO:     model graph         : 1\n",
      "COMET INFO:     notebook            : 1\n",
      "COMET INFO:     os packages         : 1\n",
      "COMET INFO:     source_code         : 1\n",
      "COMET INFO: ---------------------------\n",
      "COMET WARNING: As you are running in a Jupyter environment, you will need to call `experiment.end()` when finished to ensure all metrics and code are logged before exiting.\n",
      "COMET INFO: Couldn't find a Git repository in '/home/wwydmanski/projects/drug-design' nor in any parent directory. You can override where Comet is looking for a Git Patch by setting the configuration `COMET_GIT_DIRECTORY`\n",
      "COMET INFO: Experiment is live on comet.ml https://www.comet.ml/wwydmanski/ml-in-drugs/f629d21402034406a3ca22c1402a4652\n",
      "\n",
      "100%|█████████████████████████████████████████████████████| 100/100 [00:02<00:00, 45.40it/s, loss=0.163, test_acc=0.803]\n"
     ]
    },
    {
     "name": "stdout",
     "output_type": "stream",
     "text": [
      "Finished Training\n"
     ]
    }
   ],
   "source": [
    "lr = 3e-4\n",
    "batch_size = 64\n",
    "\n",
    "experiment = Experiment(\n",
    "    api_key=\"sQnInDpH3eOHuFvstNS3jG5jb\",\n",
    "    project_name=\"ml-in-drugs\",\n",
    "    workspace=\"wwydmanski\",\n",
    ")\n",
    "\n",
    "model = BindingPredictor().cuda()\n",
    "criterion = nn.BCELoss()\n",
    "optimizer = optim.Adam(model.parameters(), lr=lr)\n",
    "\n",
    "experiment.set_model_graph(repr(model.network))\n",
    "experiment.log_parameter(\"lr\", optimizer.defaults['lr'])\n",
    "\n",
    "trainloader = torch.utils.data.DataLoader(trainset, batch_size=int(batch_size),\n",
    "                                      shuffle=True)\n",
    "\n",
    "with tqdm.trange(100) as t:\n",
    "    for epoch in t:\n",
    "        running_loss = 0.0\n",
    "        iters = 0\n",
    "        for i, data in enumerate(trainloader, 0):\n",
    "            inputs, labels = data\n",
    "            inputs = inputs.cuda()\n",
    "            labels = labels.cuda()\n",
    "            optimizer.zero_grad()\n",
    "\n",
    "            outputs = model(inputs)\n",
    "            loss = criterion(outputs, labels)\n",
    "            loss.backward()\n",
    "            optimizer.step()\n",
    "\n",
    "            running_loss += loss.item()\n",
    "            iters += 1\n",
    "        acc = test_model(model, X_test, y_test, verbose=False)\n",
    "        t.set_postfix(loss=running_loss / iters, test_acc=acc)\n",
    "        experiment.log_metric(\"test_acc\", acc)\n",
    "        experiment.log_metric(\"train_loss\", running_loss)\n",
    "\n",
    "        running_loss = 0.0\n",
    "            \n",
    "print('Finished Training')"
   ]
  },
  {
   "cell_type": "code",
   "execution_count": 68,
   "id": "12f376a0-1735-429c-9dc9-92f97f826880",
   "metadata": {},
   "outputs": [
    {
     "name": "stdout",
     "output_type": "stream",
     "text": [
      "Accuracy: 0.775\n",
      "Precision: 0.865\n",
      "Recall: 0.833\n",
      "F1: 0.849\n"
     ]
    }
   ],
   "source": [
    "try:\n",
    "    test_model(model, X_test, y_test) \n",
    "except ValueError:\n",
    "    pass"
   ]
  },
  {
   "cell_type": "code",
   "execution_count": 29,
   "id": "f5af2732-8f71-4676-948e-833e265c3e3e",
   "metadata": {},
   "outputs": [],
   "source": [
    "torch.save(model, \"weights/mu_activity\")"
   ]
  },
  {
   "cell_type": "code",
   "execution_count": 69,
   "id": "02e658c5-0541-4288-8b7a-40ce7be51bbd",
   "metadata": {},
   "outputs": [],
   "source": [
    "from sklearn.metrics import roc_curve"
   ]
  },
  {
   "cell_type": "code",
   "execution_count": 79,
   "id": "a9a54b71-50b2-4ccd-92f8-50ea35defd9e",
   "metadata": {},
   "outputs": [
    {
     "data": {
      "text/plain": [
       "array([0, 0, 0, 1, 1, 1, 1, 1, 1, 0, 1, 1, 1, 0, 1, 1, 1, 1, 1, 1, 1, 1,\n",
       "       1, 1, 0, 1, 0, 1, 0, 0, 1, 0, 1, 1, 1, 0, 1, 1, 1, 0, 0, 0, 0, 1,\n",
       "       1, 1, 1, 1, 1, 0, 0, 1, 1, 0, 1, 1, 1, 1, 1, 1, 1, 1, 1, 1, 0, 1,\n",
       "       0, 1, 1, 0, 0, 1, 1, 1, 1, 0, 1, 1, 0, 1, 1, 1, 1, 1, 1, 1, 1, 1,\n",
       "       1, 1, 0, 0, 1, 1, 0, 1, 0, 1, 0, 1, 1, 0, 1, 0, 1, 0, 1, 1, 1, 0,\n",
       "       1, 0, 1, 1, 1, 1, 0, 1, 1, 1, 1, 1, 1, 0, 1, 0, 1, 0, 1, 1, 1, 1,\n",
       "       1, 0, 1, 1, 1, 0, 1, 1, 1, 1, 1, 1, 0, 1, 1, 0, 1, 1, 1, 1, 1, 1,\n",
       "       1, 1, 1, 1, 0, 1, 1, 1, 1, 1, 1, 0, 0, 0, 1, 1, 1, 1, 1, 1, 1, 1,\n",
       "       1, 1, 1, 0, 1, 1, 0, 0, 1, 1, 1, 1, 1, 1, 1, 1, 1, 1, 1, 1, 1, 1,\n",
       "       1, 1, 1, 1, 1, 1, 1, 1, 1, 1, 0, 1, 0, 1, 1, 1, 1, 1, 0, 1, 0, 1,\n",
       "       1, 0, 1, 1, 1, 0, 1, 1, 1, 1, 0, 1, 1, 1, 1, 1, 1, 1, 1, 1, 1, 0,\n",
       "       1, 1, 0, 1, 1, 1, 1, 1, 1, 0, 1, 1, 1, 1, 1, 1, 1, 1, 1, 0, 1, 0,\n",
       "       0, 1, 1, 1, 1, 0, 1, 1, 1, 0, 1, 1, 1, 1, 1, 0, 1])"
      ]
     },
     "execution_count": 79,
     "metadata": {},
     "output_type": "execute_result"
    }
   ],
   "source": [
    "y_train"
   ]
  },
  {
   "cell_type": "code",
   "execution_count": 75,
   "id": "c36aa4ae-9928-4488-9a17-e3a4f8af775e",
   "metadata": {},
   "outputs": [
    {
     "data": {
      "text/plain": [
       "Text(0.5, 1.0, 'XGBoost ROC')"
      ]
     },
     "execution_count": 75,
     "metadata": {},
     "output_type": "execute_result"
    },
    {
     "data": {
      "image/png": "[encoded data removed]",
      "text/plain": [
       "<Figure size 432x288 with 1 Axes>"
      ]
     },
     "metadata": {
      "needs_background": "light"
     },
     "output_type": "display_data"
    }
   ],
   "source": [
    "import matplotlib.pyplot as plt\n",
    "\n",
    "fpr, tpr, thresholds = roc_curve(y_test[:], clf.predict_proba(X_test)[:, 1])\n",
    "plt.plot(fpr, tpr, label=\"DILI\")\n",
    "\n",
    "# fpr, tpr, thresholds = roc_curve(y_test[:, 1], model.proba(X_test)[:, 1])\n",
    "# plt.plot(fpr, tpr, label=\"Agonist/antagonist\")\n",
    "plt.legend()\n",
    "plt.title(\"XGBoost ROC\")"
   ]
  },
  {
   "cell_type": "code",
   "execution_count": 77,
   "id": "b2b8c9e7-82dd-432d-9e26-2e531dd463d1",
   "metadata": {},
   "outputs": [],
   "source": [
    "clf.save_model(\"weights/dili\")"
   ]
  },
  {
   "cell_type": "markdown",
   "id": "4b52ba15-5f9f-4988-97da-9fb25b5a4685",
   "metadata": {},
   "source": [
    "## TabNet experiments"
   ]
  },
  {
   "cell_type": "code",
   "execution_count": 157,
   "id": "ffd6749d-0b11-4651-80d8-5a980369cf0a",
   "metadata": {},
   "outputs": [],
   "source": [
    "from pytorch_tabnet.tab_model import TabNetClassifier"
   ]
  },
  {
   "cell_type": "code",
   "execution_count": 158,
   "id": "42b7dc97-0a0d-4e37-9a63-2db91691a411",
   "metadata": {
    "collapsed": true,
    "jupyter": {
     "outputs_hidden": true
    },
    "tags": []
   },
   "outputs": [
    {
     "name": "stdout",
     "output_type": "stream",
     "text": [
      "Device used : cuda\n",
      "epoch 0  | loss: 0.812   | train_auc: 0.61122 | train_accuracy: 0.49186 | valid_auc: 0.62329 | valid_accuracy: 0.47364 |  0:00:03s\n",
      "epoch 1  | loss: 0.70737 | train_auc: 0.57283 | train_accuracy: 0.50814 | valid_auc: 0.57392 | valid_accuracy: 0.52636 |  0:00:07s\n",
      "epoch 2  | loss: 0.68976 | train_auc: 0.62654 | train_accuracy: 0.56201 | valid_auc: 0.6343  | valid_accuracy: 0.56942 |  0:00:11s\n",
      "epoch 3  | loss: 0.67961 | train_auc: 0.61958 | train_accuracy: 0.57586 | valid_auc: 0.64429 | valid_accuracy: 0.5993  |  0:00:15s\n",
      "epoch 4  | loss: 0.66531 | train_auc: 0.63883 | train_accuracy: 0.4945  | valid_auc: 0.66854 | valid_accuracy: 0.4754  |  0:00:19s\n",
      "epoch 5  | loss: 0.65684 | train_auc: 0.63892 | train_accuracy: 0.60246 | valid_auc: 0.66013 | valid_accuracy: 0.61511 |  0:00:23s\n",
      "epoch 6  | loss: 0.6452  | train_auc: 0.67836 | train_accuracy: 0.62885 | valid_auc: 0.68343 | valid_accuracy: 0.64938 |  0:00:27s\n",
      "epoch 7  | loss: 0.61543 | train_auc: 0.71867 | train_accuracy: 0.65831 | valid_auc: 0.72175 | valid_accuracy: 0.65641 |  0:00:31s\n",
      "epoch 8  | loss: 0.60631 | train_auc: 0.74399 | train_accuracy: 0.67414 | valid_auc: 0.73671 | valid_accuracy: 0.67487 |  0:00:35s\n",
      "epoch 9  | loss: 0.58551 | train_auc: 0.77415 | train_accuracy: 0.70383 | valid_auc: 0.76114 | valid_accuracy: 0.70211 |  0:00:39s\n",
      "epoch 10 | loss: 0.56909 | train_auc: 0.80267 | train_accuracy: 0.71812 | valid_auc: 0.78404 | valid_accuracy: 0.69947 |  0:00:43s\n",
      "epoch 11 | loss: 0.55433 | train_auc: 0.81694 | train_accuracy: 0.73571 | valid_auc: 0.79169 | valid_accuracy: 0.71353 |  0:00:47s\n",
      "epoch 12 | loss: 0.55364 | train_auc: 0.83353 | train_accuracy: 0.75242 | valid_auc: 0.80644 | valid_accuracy: 0.73023 |  0:00:51s\n",
      "epoch 13 | loss: 0.53304 | train_auc: 0.83779 | train_accuracy: 0.76011 | valid_auc: 0.803   | valid_accuracy: 0.72847 |  0:00:55s\n",
      "epoch 14 | loss: 0.53238 | train_auc: 0.85234 | train_accuracy: 0.77221 | valid_auc: 0.82031 | valid_accuracy: 0.74692 |  0:00:59s\n",
      "epoch 15 | loss: 0.52389 | train_auc: 0.84518 | train_accuracy: 0.76781 | valid_auc: 0.80691 | valid_accuracy: 0.72847 |  0:01:03s\n",
      "epoch 16 | loss: 0.54114 | train_auc: 0.85504 | train_accuracy: 0.76517 | valid_auc: 0.82249 | valid_accuracy: 0.72935 |  0:01:07s\n",
      "epoch 17 | loss: 0.53043 | train_auc: 0.86009 | train_accuracy: 0.76891 | valid_auc: 0.83025 | valid_accuracy: 0.73989 |  0:01:11s\n",
      "epoch 18 | loss: 0.50355 | train_auc: 0.86687 | train_accuracy: 0.77792 | valid_auc: 0.83798 | valid_accuracy: 0.75132 |  0:01:15s\n",
      "epoch 19 | loss: 0.50781 | train_auc: 0.87498 | train_accuracy: 0.78804 | valid_auc: 0.83872 | valid_accuracy: 0.75659 |  0:01:19s\n",
      "epoch 20 | loss: 0.49082 | train_auc: 0.88572 | train_accuracy: 0.79969 | valid_auc: 0.83952 | valid_accuracy: 0.75483 |  0:01:23s\n",
      "epoch 21 | loss: 0.46921 | train_auc: 0.88288 | train_accuracy: 0.80013 | valid_auc: 0.83973 | valid_accuracy: 0.76098 |  0:01:27s\n",
      "epoch 22 | loss: 0.47837 | train_auc: 0.88183 | train_accuracy: 0.79617 | valid_auc: 0.83948 | valid_accuracy: 0.77153 |  0:01:31s\n",
      "epoch 23 | loss: 0.47559 | train_auc: 0.89324 | train_accuracy: 0.81003 | valid_auc: 0.84058 | valid_accuracy: 0.7522  |  0:01:35s\n",
      "epoch 24 | loss: 0.46834 | train_auc: 0.89738 | train_accuracy: 0.80871 | valid_auc: 0.83818 | valid_accuracy: 0.75835 |  0:01:39s\n",
      "epoch 25 | loss: 0.45774 | train_auc: 0.90461 | train_accuracy: 0.81772 | valid_auc: 0.85196 | valid_accuracy: 0.77329 |  0:01:43s\n",
      "epoch 26 | loss: 0.44213 | train_auc: 0.90553 | train_accuracy: 0.81838 | valid_auc: 0.84865 | valid_accuracy: 0.77417 |  0:01:47s\n",
      "epoch 27 | loss: 0.45337 | train_auc: 0.91227 | train_accuracy: 0.82388 | valid_auc: 0.85257 | valid_accuracy: 0.76889 |  0:01:51s\n",
      "epoch 28 | loss: 0.44876 | train_auc: 0.91228 | train_accuracy: 0.82938 | valid_auc: 0.85735 | valid_accuracy: 0.7768  |  0:01:55s\n",
      "epoch 29 | loss: 0.4429  | train_auc: 0.91119 | train_accuracy: 0.82784 | valid_auc: 0.86006 | valid_accuracy: 0.78822 |  0:01:59s\n",
      "epoch 30 | loss: 0.43609 | train_auc: 0.91443 | train_accuracy: 0.83289 | valid_auc: 0.86073 | valid_accuracy: 0.77417 |  0:02:03s\n",
      "epoch 31 | loss: 0.41925 | train_auc: 0.92163 | train_accuracy: 0.84147 | valid_auc: 0.85189 | valid_accuracy: 0.78207 |  0:02:08s\n",
      "epoch 32 | loss: 0.42684 | train_auc: 0.92397 | train_accuracy: 0.84125 | valid_auc: 0.86237 | valid_accuracy: 0.78559 |  0:02:12s\n",
      "epoch 33 | loss: 0.42056 | train_auc: 0.92242 | train_accuracy: 0.84191 | valid_auc: 0.8587  | valid_accuracy: 0.7768  |  0:02:16s\n",
      "epoch 34 | loss: 0.41761 | train_auc: 0.92653 | train_accuracy: 0.84499 | valid_auc: 0.86567 | valid_accuracy: 0.7891  |  0:02:20s\n",
      "epoch 35 | loss: 0.4121  | train_auc: 0.92913 | train_accuracy: 0.84916 | valid_auc: 0.86464 | valid_accuracy: 0.78735 |  0:02:23s\n",
      "epoch 36 | loss: 0.40405 | train_auc: 0.93508 | train_accuracy: 0.85774 | valid_auc: 0.8596  | valid_accuracy: 0.78471 |  0:02:28s\n",
      "epoch 37 | loss: 0.40828 | train_auc: 0.93222 | train_accuracy: 0.85246 | valid_auc: 0.85762 | valid_accuracy: 0.78295 |  0:02:32s\n",
      "epoch 38 | loss: 0.39566 | train_auc: 0.9329  | train_accuracy: 0.85092 | valid_auc: 0.85321 | valid_accuracy: 0.77768 |  0:02:35s\n",
      "epoch 39 | loss: 0.40858 | train_auc: 0.93456 | train_accuracy: 0.86038 | valid_auc: 0.84972 | valid_accuracy: 0.77768 |  0:02:39s\n",
      "epoch 40 | loss: 0.39255 | train_auc: 0.93446 | train_accuracy: 0.86016 | valid_auc: 0.85647 | valid_accuracy: 0.78471 |  0:02:43s\n",
      "epoch 41 | loss: 0.37931 | train_auc: 0.94234 | train_accuracy: 0.87071 | valid_auc: 0.86337 | valid_accuracy: 0.79965 |  0:02:48s\n",
      "epoch 42 | loss: 0.38771 | train_auc: 0.94458 | train_accuracy: 0.87159 | valid_auc: 0.8618  | valid_accuracy: 0.78032 |  0:02:52s\n",
      "epoch 43 | loss: 0.39254 | train_auc: 0.9477  | train_accuracy: 0.87621 | valid_auc: 0.86068 | valid_accuracy: 0.77944 |  0:02:56s\n",
      "epoch 44 | loss: 0.39792 | train_auc: 0.94381 | train_accuracy: 0.86741 | valid_auc: 0.86217 | valid_accuracy: 0.78559 |  0:03:00s\n",
      "epoch 45 | loss: 0.37934 | train_auc: 0.94945 | train_accuracy: 0.87731 | valid_auc: 0.86173 | valid_accuracy: 0.78295 |  0:03:03s\n",
      "epoch 46 | loss: 0.38878 | train_auc: 0.94735 | train_accuracy: 0.87291 | valid_auc: 0.85512 | valid_accuracy: 0.77153 |  0:03:07s\n",
      "epoch 47 | loss: 0.38989 | train_auc: 0.95044 | train_accuracy: 0.87863 | valid_auc: 0.8596  | valid_accuracy: 0.78032 |  0:03:11s\n",
      "epoch 48 | loss: 0.36224 | train_auc: 0.95267 | train_accuracy: 0.88281 | valid_auc: 0.86473 | valid_accuracy: 0.79525 |  0:03:16s\n",
      "epoch 49 | loss: 0.35784 | train_auc: 0.95301 | train_accuracy: 0.88412 | valid_auc: 0.8574  | valid_accuracy: 0.78295 |  0:03:20s\n",
      "epoch 50 | loss: 0.35884 | train_auc: 0.95449 | train_accuracy: 0.88149 | valid_auc: 0.86084 | valid_accuracy: 0.79789 |  0:03:23s\n",
      "epoch 51 | loss: 0.3662  | train_auc: 0.95534 | train_accuracy: 0.8872  | valid_auc: 0.86742 | valid_accuracy: 0.79877 |  0:03:27s\n",
      "epoch 52 | loss: 0.3552  | train_auc: 0.95816 | train_accuracy: 0.88808 | valid_auc: 0.86392 | valid_accuracy: 0.78998 |  0:03:32s\n",
      "epoch 53 | loss: 0.34681 | train_auc: 0.95937 | train_accuracy: 0.88742 | valid_auc: 0.87204 | valid_accuracy: 0.81019 |  0:03:36s\n",
      "epoch 54 | loss: 0.33601 | train_auc: 0.95905 | train_accuracy: 0.88566 | valid_auc: 0.86693 | valid_accuracy: 0.79262 |  0:03:40s\n",
      "epoch 55 | loss: 0.34094 | train_auc: 0.96141 | train_accuracy: 0.89336 | valid_auc: 0.86107 | valid_accuracy: 0.78383 |  0:03:44s\n",
      "epoch 56 | loss: 0.34144 | train_auc: 0.96302 | train_accuracy: 0.89292 | valid_auc: 0.86816 | valid_accuracy: 0.79262 |  0:03:48s\n",
      "epoch 57 | loss: 0.34308 | train_auc: 0.96503 | train_accuracy: 0.90062 | valid_auc: 0.8686  | valid_accuracy: 0.78822 |  0:03:51s\n",
      "epoch 58 | loss: 0.31776 | train_auc: 0.96454 | train_accuracy: 0.89908 | valid_auc: 0.86693 | valid_accuracy: 0.78383 |  0:03:56s\n",
      "epoch 59 | loss: 0.3365  | train_auc: 0.96493 | train_accuracy: 0.89666 | valid_auc: 0.87354 | valid_accuracy: 0.8058  |  0:04:00s\n",
      "epoch 60 | loss: 0.32084 | train_auc: 0.96806 | train_accuracy: 0.90347 | valid_auc: 0.86923 | valid_accuracy: 0.80053 |  0:04:04s\n",
      "epoch 61 | loss: 0.32365 | train_auc: 0.96744 | train_accuracy: 0.89996 | valid_auc: 0.86689 | valid_accuracy: 0.7891  |  0:04:07s\n",
      "epoch 62 | loss: 0.31957 | train_auc: 0.96732 | train_accuracy: 0.89798 | valid_auc: 0.87073 | valid_accuracy: 0.79701 |  0:04:11s\n",
      "epoch 63 | loss: 0.30853 | train_auc: 0.96763 | train_accuracy: 0.90369 | valid_auc: 0.8784  | valid_accuracy: 0.81371 |  0:04:15s\n",
      "epoch 64 | loss: 0.33079 | train_auc: 0.96948 | train_accuracy: 0.90457 | valid_auc: 0.87032 | valid_accuracy: 0.80228 |  0:04:19s\n",
      "epoch 65 | loss: 0.31428 | train_auc: 0.9688  | train_accuracy: 0.90589 | valid_auc: 0.86798 | valid_accuracy: 0.78559 |  0:04:23s\n",
      "epoch 66 | loss: 0.32784 | train_auc: 0.97268 | train_accuracy: 0.90677 | valid_auc: 0.87298 | valid_accuracy: 0.79438 |  0:04:27s\n",
      "epoch 67 | loss: 0.31347 | train_auc: 0.96969 | train_accuracy: 0.90523 | valid_auc: 0.85779 | valid_accuracy: 0.7768  |  0:04:31s\n",
      "epoch 68 | loss: 0.32343 | train_auc: 0.97195 | train_accuracy: 0.90853 | valid_auc: 0.86837 | valid_accuracy: 0.78647 |  0:04:35s\n",
      "epoch 69 | loss: 0.30966 | train_auc: 0.97086 | train_accuracy: 0.90523 | valid_auc: 0.87269 | valid_accuracy: 0.79262 |  0:04:39s\n",
      "epoch 70 | loss: 0.30674 | train_auc: 0.97371 | train_accuracy: 0.91293 | valid_auc: 0.87244 | valid_accuracy: 0.79613 |  0:04:43s\n",
      "epoch 71 | loss: 0.31052 | train_auc: 0.97526 | train_accuracy: 0.91293 | valid_auc: 0.87361 | valid_accuracy: 0.80053 |  0:04:47s\n",
      "epoch 72 | loss: 0.2931  | train_auc: 0.97667 | train_accuracy: 0.91513 | valid_auc: 0.87109 | valid_accuracy: 0.79877 |  0:04:51s\n",
      "epoch 73 | loss: 0.29987 | train_auc: 0.97486 | train_accuracy: 0.91249 | valid_auc: 0.8696  | valid_accuracy: 0.79613 |  0:04:55s\n",
      "epoch 74 | loss: 0.30082 | train_auc: 0.97559 | train_accuracy: 0.91469 | valid_auc: 0.86396 | valid_accuracy: 0.78735 |  0:04:59s\n",
      "epoch 75 | loss: 0.30629 | train_auc: 0.97625 | train_accuracy: 0.91359 | valid_auc: 0.8634  | valid_accuracy: 0.78998 |  0:05:03s\n",
      "epoch 76 | loss: 0.28473 | train_auc: 0.97571 | train_accuracy: 0.91381 | valid_auc: 0.87123 | valid_accuracy: 0.80492 |  0:05:07s\n",
      "epoch 77 | loss: 0.29005 | train_auc: 0.97627 | train_accuracy: 0.91403 | valid_auc: 0.86802 | valid_accuracy: 0.78998 |  0:05:11s\n",
      "epoch 78 | loss: 0.2895  | train_auc: 0.97693 | train_accuracy: 0.91667 | valid_auc: 0.86834 | valid_accuracy: 0.78383 |  0:05:15s\n",
      "epoch 79 | loss: 0.28707 | train_auc: 0.97872 | train_accuracy: 0.92216 | valid_auc: 0.8679  | valid_accuracy: 0.79701 |  0:05:19s\n",
      "epoch 80 | loss: 0.27745 | train_auc: 0.97698 | train_accuracy: 0.91996 | valid_auc: 0.86424 | valid_accuracy: 0.79086 |  0:05:23s\n",
      "epoch 81 | loss: 0.28483 | train_auc: 0.97987 | train_accuracy: 0.92546 | valid_auc: 0.86964 | valid_accuracy: 0.79789 |  0:05:27s\n",
      "epoch 82 | loss: 0.27424 | train_auc: 0.97916 | train_accuracy: 0.92084 | valid_auc: 0.87313 | valid_accuracy: 0.80316 |  0:05:31s\n",
      "epoch 83 | loss: 0.27832 | train_auc: 0.9784  | train_accuracy: 0.91909 | valid_auc: 0.86721 | valid_accuracy: 0.79086 |  0:05:35s\n",
      "epoch 84 | loss: 0.28339 | train_auc: 0.98017 | train_accuracy: 0.92414 | valid_auc: 0.86906 | valid_accuracy: 0.7935  |  0:05:39s\n",
      "epoch 85 | loss: 0.28249 | train_auc: 0.98133 | train_accuracy: 0.92898 | valid_auc: 0.86971 | valid_accuracy: 0.80668 |  0:05:43s\n",
      "epoch 86 | loss: 0.28526 | train_auc: 0.98045 | train_accuracy: 0.9226  | valid_auc: 0.86766 | valid_accuracy: 0.79613 |  0:05:47s\n",
      "epoch 87 | loss: 0.27833 | train_auc: 0.98106 | train_accuracy: 0.92722 | valid_auc: 0.87504 | valid_accuracy: 0.80844 |  0:05:51s\n",
      "epoch 88 | loss: 0.27361 | train_auc: 0.9812  | train_accuracy: 0.92788 | valid_auc: 0.8737  | valid_accuracy: 0.80228 |  0:05:55s\n",
      "epoch 89 | loss: 0.27919 | train_auc: 0.98183 | train_accuracy: 0.92766 | valid_auc: 0.87786 | valid_accuracy: 0.79965 |  0:05:59s\n",
      "epoch 90 | loss: 0.25243 | train_auc: 0.98243 | train_accuracy: 0.92766 | valid_auc: 0.87696 | valid_accuracy: 0.79613 |  0:06:03s\n",
      "epoch 91 | loss: 0.26171 | train_auc: 0.98299 | train_accuracy: 0.92766 | valid_auc: 0.87488 | valid_accuracy: 0.80492 |  0:06:07s\n",
      "epoch 92 | loss: 0.26925 | train_auc: 0.98277 | train_accuracy: 0.9292  | valid_auc: 0.8761  | valid_accuracy: 0.79701 |  0:06:11s\n",
      "epoch 93 | loss: 0.26973 | train_auc: 0.9831  | train_accuracy: 0.92832 | valid_auc: 0.87603 | valid_accuracy: 0.79789 |  0:06:15s\n",
      "epoch 94 | loss: 0.26962 | train_auc: 0.98275 | train_accuracy: 0.92854 | valid_auc: 0.87735 | valid_accuracy: 0.80756 |  0:06:19s\n",
      "epoch 95 | loss: 0.2606  | train_auc: 0.98298 | train_accuracy: 0.92876 | valid_auc: 0.8751  | valid_accuracy: 0.80228 |  0:06:23s\n",
      "epoch 96 | loss: 0.2722  | train_auc: 0.98402 | train_accuracy: 0.93316 | valid_auc: 0.87577 | valid_accuracy: 0.80931 |  0:06:26s\n",
      "epoch 97 | loss: 0.26725 | train_auc: 0.98485 | train_accuracy: 0.93272 | valid_auc: 0.87668 | valid_accuracy: 0.80492 |  0:06:30s\n",
      "epoch 98 | loss: 0.25903 | train_auc: 0.98521 | train_accuracy: 0.93294 | valid_auc: 0.87508 | valid_accuracy: 0.80492 |  0:06:34s\n",
      "epoch 99 | loss: 0.24542 | train_auc: 0.98469 | train_accuracy: 0.93294 | valid_auc: 0.87613 | valid_accuracy: 0.80141 |  0:06:38s\n",
      "epoch 100| loss: 0.2719  | train_auc: 0.98406 | train_accuracy: 0.93162 | valid_auc: 0.8754  | valid_accuracy: 0.80756 |  0:06:42s\n",
      "epoch 101| loss: 0.27258 | train_auc: 0.98534 | train_accuracy: 0.93492 | valid_auc: 0.87292 | valid_accuracy: 0.79613 |  0:06:46s\n",
      "epoch 102| loss: 0.26238 | train_auc: 0.98481 | train_accuracy: 0.9325  | valid_auc: 0.87251 | valid_accuracy: 0.79965 |  0:06:50s\n",
      "epoch 103| loss: 0.26378 | train_auc: 0.98559 | train_accuracy: 0.93448 | valid_auc: 0.87514 | valid_accuracy: 0.79965 |  0:06:54s\n",
      "epoch 104| loss: 0.26794 | train_auc: 0.98587 | train_accuracy: 0.93602 | valid_auc: 0.87516 | valid_accuracy: 0.79965 |  0:06:57s\n",
      "epoch 105| loss: 0.25686 | train_auc: 0.98657 | train_accuracy: 0.93646 | valid_auc: 0.87492 | valid_accuracy: 0.80141 |  0:07:01s\n",
      "epoch 106| loss: 0.25229 | train_auc: 0.98683 | train_accuracy: 0.93755 | valid_auc: 0.87847 | valid_accuracy: 0.80228 |  0:07:05s\n",
      "epoch 107| loss: 0.23538 | train_auc: 0.98605 | train_accuracy: 0.93338 | valid_auc: 0.87639 | valid_accuracy: 0.81019 |  0:07:09s\n",
      "epoch 108| loss: 0.24515 | train_auc: 0.98665 | train_accuracy: 0.93536 | valid_auc: 0.88049 | valid_accuracy: 0.81019 |  0:07:13s\n",
      "epoch 109| loss: 0.24357 | train_auc: 0.98689 | train_accuracy: 0.93821 | valid_auc: 0.87598 | valid_accuracy: 0.79525 |  0:07:17s\n",
      "epoch 110| loss: 0.25116 | train_auc: 0.98793 | train_accuracy: 0.93887 | valid_auc: 0.87569 | valid_accuracy: 0.7935  |  0:07:21s\n",
      "epoch 111| loss: 0.25491 | train_auc: 0.98769 | train_accuracy: 0.93997 | valid_auc: 0.87492 | valid_accuracy: 0.79613 |  0:07:25s\n",
      "epoch 112| loss: 0.2516  | train_auc: 0.9878  | train_accuracy: 0.94151 | valid_auc: 0.87555 | valid_accuracy: 0.80228 |  0:07:29s\n",
      "epoch 113| loss: 0.24007 | train_auc: 0.98802 | train_accuracy: 0.93997 | valid_auc: 0.87765 | valid_accuracy: 0.80053 |  0:07:33s\n",
      "\n",
      "Early stopping occurred at epoch 113 with best_epoch = 63 and best_valid_accuracy = 0.81371\n",
      "Best weights from best epoch are automatically used!\n"
     ]
    }
   ],
   "source": [
    "clf1_nopreproc = TabNetClassifier(optimizer_fn=torch.optim.Adam,\n",
    "                       optimizer_params=dict(lr=4e-3),\n",
    "                       scheduler_params={\"step_size\":10, # how to use learning rate scheduler\n",
    "                                         \"gamma\":0.9},\n",
    "                       scheduler_fn=torch.optim.lr_scheduler.StepLR,\n",
    "                       mask_type='entmax' # \"sparsemax\"\n",
    "                      )\n",
    "\n",
    "# fit the model \n",
    "clf1_nopreproc.fit(\n",
    "    X_train,y_train,\n",
    "    eval_set=[(X_train, y_train), (X_test, y_test)],\n",
    "    eval_name=['train', 'valid'],\n",
    "    eval_metric=['auc','accuracy'],\n",
    "    max_epochs=1000 , patience=50,\n",
    "    batch_size=64, virtual_batch_size=32,\n",
    "    num_workers=1,\n",
    "    weights=1,\n",
    "    drop_last=False\n",
    ")          "
   ]
  },
  {
   "cell_type": "code",
   "execution_count": null,
   "id": "aeed8cea-683a-4120-9bb5-18a8496e7088",
   "metadata": {},
   "outputs": [],
   "source": []
  }
 ],
 "metadata": {
  "kernelspec": {
   "display_name": "drug-design",
   "language": "python",
   "name": "drug-design"
  },
  "language_info": {
   "codemirror_mode": {
    "name": "ipython",
    "version": 3
   },
   "file_extension": ".py",
   "mimetype": "text/x-python",
   "name": "python",
   "nbconvert_exporter": "python",
   "pygments_lexer": "ipython3",
   "version": "3.7.11"
  }
 },
 "nbformat": 4,
 "nbformat_minor": 5
}
