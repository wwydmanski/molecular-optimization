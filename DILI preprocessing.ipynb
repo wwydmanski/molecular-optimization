{
 "cells": [
  {
   "cell_type": "code",
   "execution_count": 43,
   "id": "01608ad4-20d2-44f3-8c5c-2142722115c5",
   "metadata": {},
   "outputs": [],
   "source": [
    "import pandas as pd\n",
    "import requests\n",
    "import bs4\n",
    "\n",
    "from threading import Thread\n",
    "from queue import Queue\n",
    "import json"
   ]
  },
  {
   "cell_type": "code",
   "execution_count": 3,
   "id": "409ec723-8353-4111-8e40-37e65841eae3",
   "metadata": {},
   "outputs": [],
   "source": [
    "data = pd.read_csv(\"data/DILI.csv\")"
   ]
  },
  {
   "cell_type": "code",
   "execution_count": 3,
   "id": "9d8a83e2-e000-40f1-93d9-afb12255481c",
   "metadata": {},
   "outputs": [
    {
     "data": {
      "text/plain": [
       "Less-DILI-Concern    183\n",
       "Most-DILI-Concern    116\n",
       "No-DILI-Concern       88\n",
       "Less-DILI-concern      5\n",
       "No-DILI-concern        4\n",
       "Name: DILI_CONCERN, dtype: int64"
      ]
     },
     "execution_count": 3,
     "metadata": {},
     "output_type": "execute_result"
    }
   ],
   "source": [
    "data[\"DILI_CONCERN\"].value_counts()"
   ]
  },
  {
   "cell_type": "code",
   "execution_count": null,
   "id": "b7292e19-51cb-4676-9fab-dc88a57dd585",
   "metadata": {},
   "outputs": [],
   "source": [
    "results = {}\n",
    "errors = []"
   ]
  },
  {
   "cell_type": "code",
   "execution_count": 80,
   "id": "983cace5-7ee0-4d4d-a792-034dbc09f028",
   "metadata": {
    "tags": []
   },
   "outputs": [
    {
     "name": "stdout",
     "output_type": "stream",
     "text": [
      "Err! sacrosidase\n",
      "Err! ferumoxytol\n",
      "Err! protamine sulfate\n",
      "Err! gemtuzumab\n"
     ]
    }
   ],
   "source": [
    "concurrent = 10\n",
    "\n",
    "def do_work():\n",
    "    while True:\n",
    "        name = q.get()\n",
    "        \n",
    "        res = requests.get(f\"https://zinc15.docking.org/substances/search/?q={name}\")\n",
    "        soup = bs4.BeautifulSoup(res.content)\n",
    "        try:\n",
    "            href = soup.find(lambda x: x.name==\"a\" and \"title\" in x.attrs and \"More about\" in x[\"title\"]).attrs['href']\n",
    "            extract_smiles(name, href)\n",
    "        except AttributeError:\n",
    "            try:\n",
    "                smiles = extract_from_pubmed(name)\n",
    "                results[name] = smiles\n",
    "                print(name, smiles)\n",
    "            except AttributeError:\n",
    "                print(\"Err!\", name)\n",
    "        finally:\n",
    "            q.task_done()\n",
    "\n",
    "def extract_smiles(name, href):\n",
    "    res = requests.get(f\"https://zinc15.docking.org{href}\")\n",
    "    soup = bs4.BeautifulSoup(res.content)\n",
    "    smiles = soup.find(id=\"substance-smiles-field\").attrs['value']\n",
    "    results[name] = smiles\n",
    "    print(name, smiles)\n",
    "    \n",
    "def extract_from_pubmed(name):\n",
    "    res = requests.get(f\"https://pubchem.ncbi.nlm.nih.gov/compound/{name}\")\n",
    "    soup = bs4.BeautifulSoup(res.content)\n",
    "    cid = soup.find(lambda x: \"name\" in x.attrs and x.attrs[\"name\"]==\"pubchem_uid_value\").attrs[\"content\"]\n",
    "    \n",
    "    req_data = requests.get(f\"https://pubchem.ncbi.nlm.nih.gov/rest/pug_view/data/compound/{cid}/JSON/\").content\n",
    "    req_data = json.loads(req_data)\n",
    "    for seq in req_data['Record']['Section']:\n",
    "        if seq[\"TOCHeading\"]==\"Names and Identifiers\":\n",
    "            for subseq in seq[\"Section\"]:\n",
    "                if subseq[\"TOCHeading\"]==\"Computed Descriptors\":\n",
    "                    for subsubseq in subseq[\"Section\"]:\n",
    "                        if subsubseq[\"TOCHeading\"]==\"Canonical SMILES\":\n",
    "                            return subsubseq[\"Information\"][0][\"Value\"][\"StringWithMarkup\"][0][\"String\"]\n",
    "\n",
    "q = Queue(concurrent * 2)\n",
    "for i in range(concurrent):\n",
    "    t = Thread(target=do_work)\n",
    "    t.daemon = True\n",
    "    t.start()\n",
    "try:\n",
    "    for url in data[\"COMPOUND_NAME\"]:\n",
    "        if url in results:\n",
    "            continue\n",
    "        q.put(str(url).strip())\n",
    "    q.join()\n",
    "except KeyboardInterrupt:\n",
    "    sys.exit(1)"
   ]
  },
  {
   "cell_type": "code",
   "execution_count": 81,
   "id": "ad09f967-fcc0-4b24-a598-373ca3e16aa3",
   "metadata": {},
   "outputs": [],
   "source": [
    "data[\"SMILES\"] = data[\"COMPOUND_NAME\"].apply(lambda x: results[x] if x in results else '')\n",
    "data.to_csv(\"data/processed_DILI.csv\")"
   ]
  },
  {
   "cell_type": "code",
   "execution_count": 82,
   "id": "945ec85f-0942-42bc-a603-05d2ea5866e9",
   "metadata": {},
   "outputs": [
    {
     "data": {
      "text/plain": [
       "396"
      ]
     },
     "execution_count": 82,
     "metadata": {},
     "output_type": "execute_result"
    }
   ],
   "source": [
    "(data[\"SMILES\"].str.len() > 0).sum()"
   ]
  }
 ],
 "metadata": {
  "kernelspec": {
   "display_name": "drug-design",
   "language": "python",
   "name": "drug-design"
  },
  "language_info": {
   "codemirror_mode": {
    "name": "ipython",
    "version": 3
   },
   "file_extension": ".py",
   "mimetype": "text/x-python",
   "name": "python",
   "nbconvert_exporter": "python",
   "pygments_lexer": "ipython3",
   "version": "3.7.11"
  }
 },
 "nbformat": 4,
 "nbformat_minor": 5
}
