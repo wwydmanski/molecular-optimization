{
 "cells": [
  {
   "cell_type": "markdown",
   "id": "07f84d6f-c2f3-48b1-b243-cb13ca5596a9",
   "metadata": {},
   "source": [
    "# Preprocess data\n",
    "Prepare our dataset so that we can use it for finetuning Chemformer"
   ]
  },
  {
   "cell_type": "code",
   "execution_count": 19,
   "id": "2239203b-4090-4ff3-8e7e-0fe9f1c48781",
   "metadata": {},
   "outputs": [],
   "source": [
    "import pandas as pd\n",
    "import glob\n",
    "import numpy as np"
   ]
  },
  {
   "cell_type": "code",
   "execution_count": 3,
   "id": "b03efc7d-2901-45d3-ac89-226b2a658323",
   "metadata": {},
   "outputs": [],
   "source": [
    "smiles = glob.glob(\"data/*.smiles\")"
   ]
  },
  {
   "cell_type": "code",
   "execution_count": 18,
   "id": "7b20fda3-f738-42b6-9b27-81fcc58bebab",
   "metadata": {},
   "outputs": [],
   "source": [
    "dframes = []\n",
    "for fname in smiles:\n",
    "    dframes.append(pd.read_csv(fname, sep=' ', header=None))\n",
    "    \n",
    "smiles_df = pd.concat(dframes, ignore_index=True)\n",
    "smiles_df.columns = [\"smiles\", \"fname\"]"
   ]
  },
  {
   "cell_type": "code",
   "execution_count": 20,
   "id": "f153da2e-5d27-4282-9777-d858e42cab54",
   "metadata": {},
   "outputs": [],
   "source": [
    "val_set_frac = 0.2\n",
    "val_idx = np.random.randint(len(smiles_df), size=int(len(smiles_df)*val_set_frac))\n",
    "\n",
    "smiles_df[\"set\"] = \"train\"\n",
    "smiles_df.loc[val_idx, \"set\"] = \"val\""
   ]
  },
  {
   "cell_type": "code",
   "execution_count": 22,
   "id": "bb5b5ad1-dfdd-4b99-a04a-3c67ee6d9457",
   "metadata": {},
   "outputs": [],
   "source": [
    "smiles_df.to_csv(\"data/smiles_data.csv\")"
   ]
  },
  {
   "cell_type": "code",
   "execution_count": null,
   "id": "dc92f5b3-7adc-4613-8d73-cb76b9f62256",
   "metadata": {},
   "outputs": [],
   "source": []
  }
 ],
 "metadata": {
  "kernelspec": {
   "display_name": "drug-design",
   "language": "python",
   "name": "drug-design"
  },
  "language_info": {
   "codemirror_mode": {
    "name": "ipython",
    "version": 3
   },
   "file_extension": ".py",
   "mimetype": "text/x-python",
   "name": "python",
   "nbconvert_exporter": "python",
   "pygments_lexer": "ipython3",
   "version": "3.7.11"
  }
 },
 "nbformat": 4,
 "nbformat_minor": 5
}
