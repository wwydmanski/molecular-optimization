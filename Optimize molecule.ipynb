{
 "cells": [
  {
   "cell_type": "code",
   "execution_count": 405,
   "id": "923113f2-a2b1-42a6-adde-aead26a7d0ef",
   "metadata": {
    "tags": []
   },
   "outputs": [],
   "source": [
    "import pandas as pd\n",
    "import numpy as np\n",
    "import matplotlib.pyplot as plt\n",
    "import glob\n",
    "from pprint import pprint\n",
    "import tqdm\n",
    "\n",
    "from scipy.stats import chi2_contingency\n",
    "from sklearn.metrics.pairwise import cosine_distances\n",
    "import re"
   ]
  },
  {
   "cell_type": "code",
   "execution_count": 2,
   "id": "ee5aeebf-7552-4094-8a2e-0593ba7563bf",
   "metadata": {},
   "outputs": [],
   "source": [
    "from rdkit import Chem"
   ]
  },
  {
   "cell_type": "code",
   "execution_count": 3,
   "id": "5d1371b1-5420-41fb-a4b1-c994347af1f4",
   "metadata": {},
   "outputs": [],
   "source": [
    "import torch\n",
    "import torch.nn as nn\n",
    "import torch.optim as optim"
   ]
  },
  {
   "cell_type": "code",
   "execution_count": 4,
   "id": "036b918a-c72f-400e-bf62-34b9c61962d0",
   "metadata": {},
   "outputs": [],
   "source": [
    "DEVICE = 'cuda:0'"
   ]
  },
  {
   "cell_type": "markdown",
   "id": "47264e16-58f7-4b97-a89a-6a9621170a08",
   "metadata": {},
   "source": [
    "## Read data"
   ]
  },
  {
   "cell_type": "code",
   "execution_count": 1383,
   "id": "1823a9a9-f36d-4145-915e-96bfe982dec7",
   "metadata": {},
   "outputs": [],
   "source": [
    "dframe = pd.read_csv(\"data/smiles_data.csv\").drop_duplicates(['smiles'])"
   ]
  },
  {
   "cell_type": "code",
   "execution_count": 1384,
   "id": "42b0c230-304e-4e67-b1d7-db617150a88a",
   "metadata": {},
   "outputs": [
    {
     "data": {
      "text/html": [
       "<div>\n",
       "<style scoped>\n",
       "    .dataframe tbody tr th:only-of-type {\n",
       "        vertical-align: middle;\n",
       "    }\n",
       "\n",
       "    .dataframe tbody tr th {\n",
       "        vertical-align: top;\n",
       "    }\n",
       "\n",
       "    .dataframe thead th {\n",
       "        text-align: right;\n",
       "    }\n",
       "</style>\n",
       "<table border=\"1\" class=\"dataframe\">\n",
       "  <thead>\n",
       "    <tr style=\"text-align: right;\">\n",
       "      <th></th>\n",
       "      <th>Unnamed: 0</th>\n",
       "      <th>smiles</th>\n",
       "      <th>fname</th>\n",
       "      <th>set</th>\n",
       "    </tr>\n",
       "  </thead>\n",
       "  <tbody>\n",
       "    <tr>\n",
       "      <th>0</th>\n",
       "      <td>0</td>\n",
       "      <td>c1ccccc1N(CNC2=O)C23CCN(CC3)C(=O)OCc4cccc(c4)O...</td>\n",
       "      <td>mu_human_IC50_binding_all_inactives_450_struct...</td>\n",
       "      <td>train</td>\n",
       "    </tr>\n",
       "    <tr>\n",
       "      <th>1</th>\n",
       "      <td>1</td>\n",
       "      <td>c1cccc(c12)n(c(=O)[nH]2)C3CCN(CC3)C(=O)OCc(c4)...</td>\n",
       "      <td>mu_human_IC50_binding_all_inactives_450_struct...</td>\n",
       "      <td>train</td>\n",
       "    </tr>\n",
       "    <tr>\n",
       "      <th>3</th>\n",
       "      <td>3</td>\n",
       "      <td>COc1cc(N)c(Cl)cc1C(=O)NCC[N@H+](C)C[C@H](CCCC2...</td>\n",
       "      <td>mu_human_IC50_binding_all_inactives_450_struct...</td>\n",
       "      <td>val</td>\n",
       "    </tr>\n",
       "    <tr>\n",
       "      <th>5</th>\n",
       "      <td>5</td>\n",
       "      <td>Oc(c1)cccc1[C@@]2(O)[C@@H](CCCC2)C[N@H+](C[C@@...</td>\n",
       "      <td>mu_human_IC50_binding_all_inactives_450_struct...</td>\n",
       "      <td>train</td>\n",
       "    </tr>\n",
       "    <tr>\n",
       "      <th>6</th>\n",
       "      <td>6</td>\n",
       "      <td>O[C@@H]1CC[N@@H+](C1)C[C@@H](c2ccccc2)n3cccc(c...</td>\n",
       "      <td>mu_human_IC50_binding_all_inactives_450_struct...</td>\n",
       "      <td>train</td>\n",
       "    </tr>\n",
       "    <tr>\n",
       "      <th>...</th>\n",
       "      <td>...</td>\n",
       "      <td>...</td>\n",
       "      <td>...</td>\n",
       "      <td>...</td>\n",
       "    </tr>\n",
       "    <tr>\n",
       "      <th>70782</th>\n",
       "      <td>70782</td>\n",
       "      <td>CCO[C@@]1([C@@]234)[C@H](N(C)CC3)Cc5c4c(c(O)cc...</td>\n",
       "      <td>mu_rat_Ki_all_inactives_1006_structures.sdf:209</td>\n",
       "      <td>train</td>\n",
       "    </tr>\n",
       "    <tr>\n",
       "      <th>70807</th>\n",
       "      <td>70807</td>\n",
       "      <td>ICCOCC[C@](COC)(C[C@H]1C(=O)OC)C(=O)[C@@H]([C@...</td>\n",
       "      <td>mu_rat_Ki_all_inactives_1006_structures.sdf:42</td>\n",
       "      <td>train</td>\n",
       "    </tr>\n",
       "    <tr>\n",
       "      <th>70970</th>\n",
       "      <td>70970</td>\n",
       "      <td>ICCCCC[C@](COC)(C[C@H]1C(=O)OC)C(=O)[C@@H]([C@...</td>\n",
       "      <td>mu_rat_Ki_all_inactives_1006_structures.sdf:105</td>\n",
       "      <td>train</td>\n",
       "    </tr>\n",
       "    <tr>\n",
       "      <th>71006</th>\n",
       "      <td>71006</td>\n",
       "      <td>CCN(CC)C(=O)c1ccc(cc1)N(c2cccc(c2)OC)[C@@H](C[...</td>\n",
       "      <td>mu_rat_Ki_all_inactives_1006_structures.sdf:97</td>\n",
       "      <td>train</td>\n",
       "    </tr>\n",
       "    <tr>\n",
       "      <th>71011</th>\n",
       "      <td>71011</td>\n",
       "      <td>c1cc(O)c(O2)c3c1C[C@@H]([N@@H+](CC4)CC5CC5)[C@...</td>\n",
       "      <td>mu_rat_Ki_all_inactives_1006_structures.sdf:286</td>\n",
       "      <td>val</td>\n",
       "    </tr>\n",
       "  </tbody>\n",
       "</table>\n",
       "<p>6918 rows × 4 columns</p>\n",
       "</div>"
      ],
      "text/plain": [
       "       Unnamed: 0                                             smiles  \\\n",
       "0               0  c1ccccc1N(CNC2=O)C23CCN(CC3)C(=O)OCc4cccc(c4)O...   \n",
       "1               1  c1cccc(c12)n(c(=O)[nH]2)C3CCN(CC3)C(=O)OCc(c4)...   \n",
       "3               3  COc1cc(N)c(Cl)cc1C(=O)NCC[N@H+](C)C[C@H](CCCC2...   \n",
       "5               5  Oc(c1)cccc1[C@@]2(O)[C@@H](CCCC2)C[N@H+](C[C@@...   \n",
       "6               6  O[C@@H]1CC[N@@H+](C1)C[C@@H](c2ccccc2)n3cccc(c...   \n",
       "...           ...                                                ...   \n",
       "70782       70782  CCO[C@@]1([C@@]234)[C@H](N(C)CC3)Cc5c4c(c(O)cc...   \n",
       "70807       70807  ICCOCC[C@](COC)(C[C@H]1C(=O)OC)C(=O)[C@@H]([C@...   \n",
       "70970       70970  ICCCCC[C@](COC)(C[C@H]1C(=O)OC)C(=O)[C@@H]([C@...   \n",
       "71006       71006  CCN(CC)C(=O)c1ccc(cc1)N(c2cccc(c2)OC)[C@@H](C[...   \n",
       "71011       71011  c1cc(O)c(O2)c3c1C[C@@H]([N@@H+](CC4)CC5CC5)[C@...   \n",
       "\n",
       "                                                   fname    set  \n",
       "0      mu_human_IC50_binding_all_inactives_450_struct...  train  \n",
       "1      mu_human_IC50_binding_all_inactives_450_struct...  train  \n",
       "3      mu_human_IC50_binding_all_inactives_450_struct...    val  \n",
       "5      mu_human_IC50_binding_all_inactives_450_struct...  train  \n",
       "6      mu_human_IC50_binding_all_inactives_450_struct...  train  \n",
       "...                                                  ...    ...  \n",
       "70782    mu_rat_Ki_all_inactives_1006_structures.sdf:209  train  \n",
       "70807     mu_rat_Ki_all_inactives_1006_structures.sdf:42  train  \n",
       "70970    mu_rat_Ki_all_inactives_1006_structures.sdf:105  train  \n",
       "71006     mu_rat_Ki_all_inactives_1006_structures.sdf:97  train  \n",
       "71011    mu_rat_Ki_all_inactives_1006_structures.sdf:286    val  \n",
       "\n",
       "[6918 rows x 4 columns]"
      ]
     },
     "execution_count": 1384,
     "metadata": {},
     "output_type": "execute_result"
    }
   ],
   "source": [
    "dframe"
   ]
  },
  {
   "cell_type": "markdown",
   "id": "1d1ffe44-bca8-4a41-913b-1ef913e62827",
   "metadata": {},
   "source": [
    "### Chemformer"
   ]
  },
  {
   "cell_type": "code",
   "execution_count": 7,
   "id": "e3fa58f5-129c-48cc-853d-f54ef1ff67d9",
   "metadata": {},
   "outputs": [],
   "source": [
    "from molbart.decoder import DecodeSampler\n",
    "from molbart.tokeniser import MolEncTokeniser\n",
    "from molbart.models.pre_train import BARTModel\n",
    "\n",
    "import molbart.util as util\n",
    "import torch\n",
    "from molbart.data.datamodules import MoleculeDataModule\n",
    "\n",
    "from rdkit import Chem"
   ]
  },
  {
   "cell_type": "code",
   "execution_count": 8,
   "id": "7174cb14-ccb0-442e-908f-1fc4700b6d55",
   "metadata": {},
   "outputs": [],
   "source": [
    "class Config:\n",
    "    model_path=\"./weights/mask/version_16/checkpoints/epoch=479-step=54719.ckpt\"\n",
    "\n",
    "tokeniser = util.load_tokeniser(\"/home/wwydmanski/Chemformer/bart_vocab.txt\", util.DEFAULT_CHEM_TOKEN_START)\n",
    "sampler = DecodeSampler(tokeniser, util.DEFAULT_MAX_SEQ_LEN)\n",
    "chemformer = util.load_bart(Config, sampler)\n",
    "chemformer = chemformer.cuda()\n",
    "\n",
    "chemformer.freeze()"
   ]
  },
  {
   "cell_type": "code",
   "execution_count": 939,
   "id": "d1aef3c4-510b-4f0a-84cb-754db7b1116e",
   "metadata": {},
   "outputs": [],
   "source": [
    "def encode(smiles):\n",
    "    encoded = []\n",
    "    # I don't get attention masks, so we will just need to avoid them\n",
    "    for smile in smiles:\n",
    "        token_output = tokeniser.tokenise([smile], pad=True)\n",
    "        enc_token_ids = tokeniser.convert_tokens_to_ids(token_output['original_tokens'])\n",
    "\n",
    "        encoder_input = torch.tensor(enc_token_ids).cuda().T\n",
    "        encoder_pad_mask = torch.tensor(token_output[\"original_pad_masks\"]).cuda()\n",
    "\n",
    "        encoder_embs = chemformer._construct_input(encoder_input)\n",
    "        res = chemformer.encoder(encoder_embs, src_key_padding_mask=encoder_pad_mask)\n",
    "        encoded.append(res.cpu().detach().numpy()[-1, 0])\n",
    "    return np.stack(encoded, 0)"
   ]
  },
  {
   "cell_type": "code",
   "execution_count": 941,
   "id": "3cbfafc9-ece8-423c-a4e1-ea32d1a5c68a",
   "metadata": {},
   "outputs": [
    {
     "data": {
      "text/plain": [
       "array([ 0.02064733, -0.0102493 ,  0.09934792,  0.03197001,  0.03521706,\n",
       "       -0.059735  ,  0.01213152, -0.00939642, -0.06601654, -0.03636185],\n",
       "      dtype=float32)"
      ]
     },
     "execution_count": 941,
     "metadata": {},
     "output_type": "execute_result"
    }
   ],
   "source": [
    "encode(['c1ccccc1N(CNC2=O)C23CCN(CC3)C(=O)OCc4cccc(c4)Oc5ccccc5'])[0][:10]"
   ]
  },
  {
   "cell_type": "markdown",
   "id": "a4baa54c-5924-4042-8c97-44fa1f338ee6",
   "metadata": {},
   "source": [
    "### Optimizing network"
   ]
  },
  {
   "cell_type": "code",
   "execution_count": 925,
   "id": "b3dc6222-2cd6-4133-bc03-c73c7ec58f12",
   "metadata": {},
   "outputs": [],
   "source": [
    "class BindingPredictor(nn.Module):\n",
    "    def __init__(self):\n",
    "        super().__init__()\n",
    "        self.network = nn.Sequential(\n",
    "            nn.Linear(512, 256),\n",
    "            nn.ReLU(),\n",
    "            \n",
    "            nn.Linear(256, 256),\n",
    "            nn.Dropout(),\n",
    "            nn.ReLU(),\n",
    "            \n",
    "            nn.Linear(256, 256),\n",
    "            nn.Dropout(),\n",
    "            nn.ReLU(),\n",
    "            nn.BatchNorm1d(256),\n",
    "            \n",
    "            nn.Linear(256, 32),\n",
    "            nn.ReLU(),\n",
    "            \n",
    "            nn.Linear(32, 2),\n",
    "            nn.Sigmoid()\n",
    "        ).cuda()\n",
    "    \n",
    "    def parameters(self):\n",
    "        return self.network.parameters()\n",
    "    \n",
    "    def forward(self, X):\n",
    "        return self.network(X)\n",
    "    \n",
    "    def to(self, *args, **kwargs):\n",
    "        self.network.to(*args, **kwargs)\n",
    "        super().to(*args, **kwargs)\n",
    "    \n",
    "    def predict(self, X):\n",
    "        res = self.network(torch.Tensor(X).cuda())\n",
    "        res = res.round().to(torch.int)\n",
    "        return res.cpu().detach().numpy()\n",
    "    \n",
    "    def proba(self, X):\n",
    "        res = self.network(torch.Tensor(X).cuda())\n",
    "        return res.cpu().detach().numpy()\n",
    "    \n",
    "model = torch.load(\"weights/mu_activity\")"
   ]
  },
  {
   "cell_type": "code",
   "execution_count": 926,
   "id": "5e239b0d-b589-4202-8895-2c09ac7b64a8",
   "metadata": {},
   "outputs": [
    {
     "data": {
      "text/plain": [
       "array([0.9999536 , 0.29874465], dtype=float32)"
      ]
     },
     "execution_count": 926,
     "metadata": {},
     "output_type": "execute_result"
    }
   ],
   "source": [
    "model.eval()\n",
    "model.proba([encode([\"c1ccccc1N(CNC2=O)C23CCN(CC3)C(=O)OCc4cccc(c4)Oc5ccccc5\"])[0]])[0]"
   ]
  },
  {
   "cell_type": "markdown",
   "id": "a9c40a30-6ff8-4b73-a24b-743516ad0bdc",
   "metadata": {},
   "source": [
    "## Molecule optimization"
   ]
  },
  {
   "cell_type": "code",
   "execution_count": 1577,
   "id": "239128e9-eaca-43d3-ab10-4ade1ff55076",
   "metadata": {},
   "outputs": [],
   "source": [
    "class MolecularOptimizer:\n",
    "    WEIGHTS = [1, 10]\n",
    "    \n",
    "    def __init__(self, tokeniser, chemformer, score_fn, smiles):\n",
    "        self.score_fn = score_fn\n",
    "        self.chemformer = chemformer\n",
    "        self.tokeniser = tokeniser\n",
    "        self.smiles = smiles\n",
    "    \n",
    "    def _get_last_layer(self, smiles):\n",
    "        token_output = self.tokeniser.tokenise(smiles, pad=True)\n",
    "        enc_token_ids = self.tokeniser.convert_tokens_to_ids(token_output['original_tokens'])\n",
    "\n",
    "        enc_input = torch.tensor(enc_token_ids).cuda().T\n",
    "        enc_mask = torch.tensor(token_output[\"original_pad_masks\"]).cuda().T\n",
    "\n",
    "        encode_input = {\n",
    "            \"encoder_input\": enc_input,\n",
    "            \"encoder_pad_mask\": enc_mask\n",
    "        }\n",
    "\n",
    "        # Output of the last layer will be passed subsequent decoder layers\n",
    "        memory = chemformer.encode(encode_input)\n",
    "        mem_mask = enc_mask.clone()\n",
    "        del token_output\n",
    "        del encode_input\n",
    "        return memory, mem_mask, enc_token_ids, enc_input\n",
    "\n",
    "    def _prepare_for_decoding(self, enc_input, mem_mask, memory):\n",
    "        # Mask the token that we want to optimize\n",
    "        enc_input[mask_idx] = self.tokeniser.vocab['<MASK>']\n",
    "        pad_mask = torch.ones(enc_input.shape).to(torch.int)\n",
    "\n",
    "        # Convert decoder input to encodable format\n",
    "        decoder_input = enc_input\n",
    "        decoder_pad_mask = pad_mask.transpose(0, 1)\n",
    "        memory_input = memory\n",
    "        memory_pad_mask = mem_mask.transpose(0, 1)\n",
    "\n",
    "        decoder_embs = self.chemformer._construct_input(decoder_input)\n",
    "        \n",
    "        del decoder_input\n",
    "        return decoder_embs, memory_input, decoder_pad_mask, memory_pad_mask\n",
    "\n",
    "    def get_transformer_ll(self, smiles, mask_idx):\n",
    "        \"\"\" Get log-likelihood of the tokens according to the transformers model \"\"\"\n",
    "        memory, mem_mask, enc_token_ids, enc_input = self._get_last_layer(smiles)\n",
    "        decoder_embs, memory_input, decoder_pad_mask, memory_pad_mask = self._prepare_for_decoding(enc_input, mem_mask, memory)\n",
    "\n",
    "        # Get token log likelihood\n",
    "        model_output = self.chemformer.decoder(\n",
    "            decoder_embs.to(DEVICE), \n",
    "            memory_input.to(DEVICE),\n",
    "            tgt_key_padding_mask=decoder_pad_mask.to(DEVICE),\n",
    "            memory_key_padding_mask=memory_pad_mask.to(DEVICE)\n",
    "        )\n",
    "        token_output = self.chemformer.token_fc(model_output)\n",
    "        token_probs = self.chemformer.log_softmax(token_output)\n",
    "        token_probs = token_probs[mask_idx]\n",
    "        token_probs = token_probs[0]\n",
    "        \n",
    "        del model_output\n",
    "        del memory_pad_mask\n",
    "        del decoder_pad_mask\n",
    "        del decoder_embs\n",
    "        del memory_input\n",
    "        return token_probs.cpu().detach()\n",
    "\n",
    "    def _to_smiles(self, smiles, mask_idx, probs=None):\n",
    "        idx_arr = np.arange(len(probs))\n",
    "\n",
    "        token_output = self.tokeniser.tokenise(smiles)\n",
    "        enc_token_ids = self.tokeniser.convert_tokens_to_ids(token_output['original_tokens'])\n",
    "        smiles_arr = [enc_token_ids]*len(idx_arr)\n",
    "        \n",
    "        smiles_arr = np.array(smiles_arr)[:, 0]\n",
    "\n",
    "        smiles_arr[:, mask_idx] = idx_arr\n",
    "        new_smiles = self.tokeniser.convert_ids_to_tokens(smiles_arr)\n",
    "        new_smiles = self.tokeniser.detokenise(new_smiles)\n",
    "        return new_smiles\n",
    "    \n",
    "    def calculate_step(self, smiles, mask_idx):\n",
    "        token_probs = self.get_transformer_ll(smiles, mask_idx)\n",
    "        \n",
    "        candidate_smiles = self._to_smiles(smiles, mask_idx, probs=token_probs)\n",
    "        score = self.score_fn(candidate_smiles)\n",
    "\n",
    "        probs = token_probs*self.WEIGHTS[0] + score*self.WEIGHTS[1]\n",
    "        \n",
    "        probs /= self.WEIGHTS[0]+self.WEIGHTS[1]\n",
    "\n",
    "        smiles = self._to_smiles(smiles, mask_idx, probs)\n",
    "        smiles = np.array(smiles)[tokeniser.chem_token_idxs]\n",
    "        probs = probs[tokeniser.chem_token_idxs]  \n",
    "        return smiles, probs, score"
   ]
  },
  {
   "cell_type": "code",
   "execution_count": 1542,
   "id": "360d4750-ff64-49c1-81c6-2c84acd395b6",
   "metadata": {},
   "outputs": [],
   "source": [
    "class SamplerModes:\n",
    "    GREEDY = 1\n",
    "    BEAM = 2\n",
    "\n",
    "class Sampler:\n",
    "    def __init__(self, optimizer, mode=SamplerModes.GREEDY, max_steps=100):\n",
    "        self.mode = mode\n",
    "        self.next_iter = [optimizer.smiles]\n",
    "        self.original_len = len(tokeniser.tokenise(optimizer.smiles)['original_tokens'])\n",
    "        self.mask_idx = 1\n",
    "        self.optimizer = optimizer\n",
    "        self.queue = []\n",
    "        self.excluded = []\n",
    "        self.max_steps = max_steps\n",
    "        self.loss = []\n",
    "        self.step = 0\n",
    "        self.current_best = (None, -np.inf)\n",
    "        \n",
    "    def _sample_greedy(self):\n",
    "        smiles, scores, losses = self.optimizer.calculate_step(self.next_iter, self.mask_idx)\n",
    "        joined = [(i, j.item(), k.item(), self.mask_idx) for i, j, k in zip(smiles, scores, losses) if i not in self.excluded]\n",
    "        joined = sorted(joined, key=lambda x: x[1], reverse=True)\n",
    "        self.queue = [*joined, *self.queue]\n",
    "        \n",
    "        next_iter = None\n",
    "        for candidate, score, loss, mask_idx in self.queue:\n",
    "            if Chem.MolFromSmiles(candidate) is not None:\n",
    "                if len(tokeniser.tokenise(candidate)['original_tokens']) == self.original_len:\n",
    "                    self.next_iter = [candidate]\n",
    "                    self.loss.append(loss)\n",
    "                    self.mask_idx = mask_idx + 1\n",
    "                    if loss>self.current_best[1]:\n",
    "                        self.current_best = (candidate, loss)\n",
    "                    break\n",
    "                else:\n",
    "                    self.excluded.append(candidate)  \n",
    "            else:\n",
    "                self.excluded.append(candidate)\n",
    "        self.queue = [i for i in self.queue if i[0] not in self.excluded]\n",
    "        return self.next_iter\n",
    "    \n",
    "    def sample(self):\n",
    "        if self.mode == SamplerModes.GREEDY:\n",
    "            with tqdm.tqdm(total=self.max_steps) as t:\n",
    "                while self.mask_idx < self.original_len and (self.step<3 or len(self.queue)>0) and self.step < self.max_steps:\n",
    "                    res = self._sample_greedy()\n",
    "                    t.set_postfix(idx=self.mask_idx, curr_loss = self.loss[-1], molecule=res[0])\n",
    "                    t.update()\n",
    "                    self.step += 1\n",
    "            return self.current_best[0]"
   ]
  },
  {
   "cell_type": "code",
   "execution_count": 1631,
   "id": "956f1c1d-5a6f-48fd-a51c-94854c167405",
   "metadata": {},
   "outputs": [],
   "source": [
    "def explain_score(result):\n",
    "    result = [result]\n",
    "    token_probs = optimizer.get_transformer_ll(result, sampler.mask_idx-1)\n",
    "    \n",
    "    encoded = encode(result)\n",
    "    target = torch.tensor([1,0])\n",
    "\n",
    "    preds = model.proba(encoded)\n",
    "    preds = torch.tensor(preds)\n",
    "\n",
    "    target = torch.Tensor.repeat(target.unsqueeze(0), [len(preds), 1]).to(torch.float)\n",
    "\n",
    "    loss = nn.functional.binary_cross_entropy(preds, target, reduction='none')\n",
    "    \n",
    "    distances = cosine_distances(original_smiles_enc, encoded)[0]\n",
    "    distances = -torch.tensor(distances)\n",
    "    \n",
    "    print(\"Predictions:\", preds)\n",
    "    print(\"Loss:\", loss)\n",
    "    print(\"Distance:\", torch.tensor(distances))\n",
    "    tokens = tokeniser.tokenise([original_smiles])[\"original_tokens\"][0]\n",
    "    new_tokens = tokeniser.tokenise(result)[\"original_tokens\"][0]\n",
    "    for i, (tk1, tk2) in enumerate(zip(tokens, new_tokens)):\n",
    "        if tk1 != tk2:\n",
    "            print(f\"{i}: {tk1} -> {tk2}\")\n",
    "            \n",
    "def explain_score_dili(result):\n",
    "    result = [result]\n",
    "    token_probs = optimizer.get_transformer_ll(result, sampler.mask_idx-1)\n",
    "    \n",
    "    debug.append(result)\n",
    "    encoded = encode(result)\n",
    "    target = torch.tensor([0])\n",
    "\n",
    "    preds = dili_clf.predict_proba(encoded)[:, 1]\n",
    "    preds = torch.tensor(preds).unsqueeze(1)\n",
    "\n",
    "    target = torch.Tensor.repeat(target.unsqueeze(0), [len(preds), 1]).to(torch.float)\n",
    "    loss = -nn.functional.binary_cross_entropy(preds, target, reduction='none').sum(axis=1)\n",
    "    \n",
    "    distances = cosine_distances(original_smiles_enc, encoded)[0]\n",
    "    distances = -torch.tensor(distances)\n",
    "    \n",
    "    print(\"Predictions:\", preds)\n",
    "    print(\"Loss:\", loss)\n",
    "    print(\"Distance:\", torch.tensor(distances))\n",
    "    tokens = tokeniser.tokenise([original_smiles])[\"original_tokens\"][0]\n",
    "    new_tokens = tokeniser.tokenise(result)[\"original_tokens\"][0]\n",
    "    for i, (tk1, tk2) in enumerate(zip(tokens, new_tokens)):\n",
    "        if tk1 != tk2:\n",
    "            print(f\"{i}: {tk1} -> {tk2}\")"
   ]
  },
  {
   "cell_type": "markdown",
   "id": "99517745-4d90-42bb-a1bb-30fdad0eb4da",
   "metadata": {},
   "source": [
    "### Our scoring function"
   ]
  },
  {
   "cell_type": "code",
   "execution_count": 1623,
   "id": "ce73195d-1905-4d68-a555-1c93d6c6783a",
   "metadata": {},
   "outputs": [],
   "source": [
    "from xgboost import XGBClassifier\n",
    "dili_clf = XGBClassifier()\n",
    "dili_clf.load_model(\"weights/dili\")\n",
    "\n",
    "def score_fn(candidate_smiles):\n",
    "    debug.append(candidate_smiles)\n",
    "    encoded = encode(candidate_smiles)\n",
    "    target = torch.tensor([1,0])\n",
    "\n",
    "    preds = model.proba(encoded)\n",
    "    preds = torch.tensor(preds)\n",
    "\n",
    "    target = torch.Tensor.repeat(target.unsqueeze(0), [len(preds), 1]).to(torch.float)\n",
    "\n",
    "    loss = -nn.functional.binary_cross_entropy(preds, target, reduction='none').sum(axis=1)\n",
    "    \n",
    "    distances = cosine_distances(original_smiles_enc, encoded)[0]\n",
    "    distances = -torch.tensor(distances)\n",
    "    res = loss.cpu()\n",
    "    return res*4 + distances\n",
    "\n",
    "def score_dili(candidate_smiles):\n",
    "    debug.append(candidate_smiles)\n",
    "    encoded = encode(candidate_smiles)\n",
    "    target = torch.tensor([0])\n",
    "\n",
    "    preds = dili_clf.predict_proba(encoded)[:, 1]\n",
    "    preds = torch.tensor(preds).unsqueeze(1)\n",
    "\n",
    "    target = torch.Tensor.repeat(target.unsqueeze(0), [len(preds), 1]).to(torch.float)\n",
    "    loss = -nn.functional.binary_cross_entropy(preds, target, reduction='none').sum(axis=1)\n",
    "    distances = cosine_distances(original_smiles_enc, encoded)[0]\n",
    "    distances = -torch.tensor(distances)\n",
    "    res = loss.cpu()\n",
    "    return res*4 + distances"
   ]
  },
  {
   "cell_type": "markdown",
   "id": "2e26c057-0eb1-4c06-86c6-47fd4b96d726",
   "metadata": {},
   "source": [
    "## Optimization experiments\n",
    "### Increase agonistic capabilities\n",
    "Let's take a sample molecule from our mu agonists dataset and optimize it to be more agonistic"
   ]
  },
  {
   "cell_type": "code",
   "execution_count": 1624,
   "id": "cefd56e2-8ad5-43dc-a92c-9e0c54dcc900",
   "metadata": {
    "tags": []
   },
   "outputs": [],
   "source": [
    "original_smiles = \"c1cc(O)ccc1C[C@H]([NH3+])C(=O)N2CCC[C@H]2C(=O)N[C@@H](CCc3ccccc3)C(=O)N4CCC[C@H]4C(=O)N\"\n",
    "original_smiles_enc = encode([original_smiles])\n",
    "mask_idx = 1\n",
    "\n",
    "optimizer = MolecularOptimizer(tokeniser, chemformer, score_dili, original_smiles)"
   ]
  },
  {
   "cell_type": "code",
   "execution_count": 1627,
   "id": "31206451-bf34-4370-a92d-6d39bd3845c2",
   "metadata": {},
   "outputs": [],
   "source": [
    "sampler = Sampler(optimizer)"
   ]
  },
  {
   "cell_type": "code",
   "execution_count": 1628,
   "id": "f8a8a939-2142-4ee5-8038-194eb3a004d6",
   "metadata": {},
   "outputs": [
    {
     "data": {
      "text/plain": [
       "87"
      ]
     },
     "execution_count": 1628,
     "metadata": {},
     "output_type": "execute_result"
    }
   ],
   "source": [
    "len(original_smiles)"
   ]
  },
  {
   "cell_type": "code",
   "execution_count": 1629,
   "id": "518aaaa7-fdc9-4f73-909b-cff09b356059",
   "metadata": {
    "tags": []
   },
   "outputs": [
    {
     "name": "stderr",
     "output_type": "stream",
     "text": [
      "100%|█| 100/100 [03:12<00:00,  1.92s/it, curr_loss=-2.62, idx=66, molecule=c1cc(C)ccc1C[C@H]([127I])C(OC)c2CCN[C@@]2C(OC\n"
     ]
    }
   ],
   "source": [
    "res = sampler.sample()"
   ]
  },
  {
   "cell_type": "code",
   "execution_count": 1596,
   "id": "96e0b8ca-a733-4e37-a6ad-c8b86060b460",
   "metadata": {},
   "outputs": [
    {
     "data": {
      "image/png": "[encoded data removed]",
      "text/plain": [
       "<rdkit.Chem.rdchem.Mol at 0x7f288005dee0>"
      ]
     },
     "execution_count": 1596,
     "metadata": {},
     "output_type": "execute_result"
    }
   ],
   "source": [
    "Chem.MolFromSmiles(res)"
   ]
  },
  {
   "cell_type": "code",
   "execution_count": 1634,
   "id": "af5cca9e-a3a4-445f-b653-5d3b312ad7df",
   "metadata": {},
   "outputs": [
    {
     "name": "stdout",
     "output_type": "stream",
     "text": [
      "Predictions: tensor([[0.4881]])\n",
      "Loss: tensor([-0.6697])\n",
      "Distance: tensor([-0.])\n"
     ]
    },
    {
     "name": "stderr",
     "output_type": "stream",
     "text": [
      "/home/wwydmanski/.conda/envs/drug-design/lib/python3.7/site-packages/ipykernel_launcher.py:46: UserWarning: To copy construct from a tensor, it is recommended to use sourceTensor.clone().detach() or sourceTensor.clone().detach().requires_grad_(True), rather than torch.tensor(sourceTensor).\n"
     ]
    }
   ],
   "source": [
    "explain_score_dili(original_smiles)"
   ]
  },
  {
   "cell_type": "code",
   "execution_count": 1586,
   "id": "e6cce6e2-b17c-4b7c-b2cc-5fd805c45f0f",
   "metadata": {},
   "outputs": [
    {
     "data": {
      "image/png": "[encoded data removed]",
      "text/plain": [
       "<rdkit.Chem.rdchem.Mol at 0x7f288005df30>"
      ]
     },
     "execution_count": 1586,
     "metadata": {},
     "output_type": "execute_result"
    }
   ],
   "source": [
    "Chem.MolFromSmiles(original_smiles)"
   ]
  },
  {
   "cell_type": "markdown",
   "id": "c111e009-0056-41bc-b7c4-4c34bdea72bb",
   "metadata": {},
   "source": [
    "### Increase antagonism"
   ]
  },
  {
   "cell_type": "code",
   "execution_count": 1385,
   "id": "8ca0b269-b6ea-4f69-907f-3f96edc375a5",
   "metadata": {},
   "outputs": [],
   "source": [
    "smiles_list = dframe['smiles'].values\n",
    "smiles_list = smiles_list[dframe['fname'].apply(lambda x: 'inactive' in x)]"
   ]
  },
  {
   "cell_type": "code",
   "execution_count": 1568,
   "id": "caf5c471-ec1a-4bde-9d52-2296b377fbf7",
   "metadata": {},
   "outputs": [
    {
     "data": {
      "text/plain": [
       "'c1cc(O)ccc1C[C@H]([NH3+])C(=O)N2CCC[C@H]2C(=O)N[C@@H](CCc3ccccc3)C(=O)N4CCC[C@H]4C(=O)N'"
      ]
     },
     "execution_count": 1568,
     "metadata": {},
     "output_type": "execute_result"
    }
   ],
   "source": [
    "smiles_list[preds[:, 1].cpu().detach()<0.3][2985]"
   ]
  },
  {
   "cell_type": "code",
   "execution_count": 1386,
   "id": "b8564cba-cd0d-4547-80d3-2f1083f23f74",
   "metadata": {},
   "outputs": [],
   "source": [
    "encoded = encode(smiles_list)"
   ]
  },
  {
   "cell_type": "code",
   "execution_count": 1387,
   "id": "19abe698-aebe-4fba-9d08-3b1d8160a070",
   "metadata": {},
   "outputs": [],
   "source": [
    "preds = model(torch.tensor(encoded).cuda())"
   ]
  },
  {
   "cell_type": "code",
   "execution_count": 1482,
   "id": "edb668c6-6804-41f8-9a10-d6b7e089648a",
   "metadata": {},
   "outputs": [],
   "source": [
    "vals, indexes = torch.sort(preds[preds[:, 1]<0.3, 1])"
   ]
  },
  {
   "cell_type": "code",
   "execution_count": 1483,
   "id": "51c302db-01d8-495e-9769-278be7478f50",
   "metadata": {},
   "outputs": [
    {
     "data": {
      "text/plain": [
       "(tensor([0.2907, 0.2933, 0.2934, 0.2934, 0.2949, 0.2964, 0.2979, 0.2983, 0.2987,\n",
       "         0.2993], device='cuda:0', grad_fn=<SliceBackward0>),\n",
       " tensor([2985, 1833, 1193, 2438,  683, 1430,  747, 1348,    0, 2859],\n",
       "        device='cuda:0'))"
      ]
     },
     "execution_count": 1483,
     "metadata": {},
     "output_type": "execute_result"
    }
   ],
   "source": [
    "vals[-10:], indexes[-10:]"
   ]
  },
  {
   "cell_type": "code",
   "execution_count": 1394,
   "id": "1922892e-caeb-4e39-adbd-213c748e524c",
   "metadata": {},
   "outputs": [
    {
     "data": {
      "text/html": [
       "<div>\n",
       "<style scoped>\n",
       "    .dataframe tbody tr th:only-of-type {\n",
       "        vertical-align: middle;\n",
       "    }\n",
       "\n",
       "    .dataframe tbody tr th {\n",
       "        vertical-align: top;\n",
       "    }\n",
       "\n",
       "    .dataframe thead th {\n",
       "        text-align: right;\n",
       "    }\n",
       "</style>\n",
       "<table border=\"1\" class=\"dataframe\">\n",
       "  <thead>\n",
       "    <tr style=\"text-align: right;\">\n",
       "      <th></th>\n",
       "      <th>Unnamed: 0</th>\n",
       "      <th>smiles</th>\n",
       "      <th>fname</th>\n",
       "      <th>set</th>\n",
       "    </tr>\n",
       "  </thead>\n",
       "  <tbody>\n",
       "    <tr>\n",
       "      <th>0</th>\n",
       "      <td>0</td>\n",
       "      <td>c1ccccc1N(CNC2=O)C23CCN(CC3)C(=O)OCc4cccc(c4)O...</td>\n",
       "      <td>mu_human_IC50_binding_all_inactives_450_struct...</td>\n",
       "      <td>train</td>\n",
       "    </tr>\n",
       "    <tr>\n",
       "      <th>1</th>\n",
       "      <td>1</td>\n",
       "      <td>c1cccc(c12)n(c(=O)[nH]2)C3CCN(CC3)C(=O)OCc(c4)...</td>\n",
       "      <td>mu_human_IC50_binding_all_inactives_450_struct...</td>\n",
       "      <td>train</td>\n",
       "    </tr>\n",
       "    <tr>\n",
       "      <th>3</th>\n",
       "      <td>3</td>\n",
       "      <td>COc1cc(N)c(Cl)cc1C(=O)NCC[N@H+](C)C[C@H](CCCC2...</td>\n",
       "      <td>mu_human_IC50_binding_all_inactives_450_struct...</td>\n",
       "      <td>val</td>\n",
       "    </tr>\n",
       "    <tr>\n",
       "      <th>5</th>\n",
       "      <td>5</td>\n",
       "      <td>Oc(c1)cccc1[C@@]2(O)[C@@H](CCCC2)C[N@H+](C[C@@...</td>\n",
       "      <td>mu_human_IC50_binding_all_inactives_450_struct...</td>\n",
       "      <td>train</td>\n",
       "    </tr>\n",
       "    <tr>\n",
       "      <th>6</th>\n",
       "      <td>6</td>\n",
       "      <td>O[C@@H]1CC[N@@H+](C1)C[C@@H](c2ccccc2)n3cccc(c...</td>\n",
       "      <td>mu_human_IC50_binding_all_inactives_450_struct...</td>\n",
       "      <td>train</td>\n",
       "    </tr>\n",
       "    <tr>\n",
       "      <th>...</th>\n",
       "      <td>...</td>\n",
       "      <td>...</td>\n",
       "      <td>...</td>\n",
       "      <td>...</td>\n",
       "    </tr>\n",
       "    <tr>\n",
       "      <th>70782</th>\n",
       "      <td>70782</td>\n",
       "      <td>CCO[C@@]1([C@@]234)[C@H](N(C)CC3)Cc5c4c(c(O)cc...</td>\n",
       "      <td>mu_rat_Ki_all_inactives_1006_structures.sdf:209</td>\n",
       "      <td>train</td>\n",
       "    </tr>\n",
       "    <tr>\n",
       "      <th>70807</th>\n",
       "      <td>70807</td>\n",
       "      <td>ICCOCC[C@](COC)(C[C@H]1C(=O)OC)C(=O)[C@@H]([C@...</td>\n",
       "      <td>mu_rat_Ki_all_inactives_1006_structures.sdf:42</td>\n",
       "      <td>train</td>\n",
       "    </tr>\n",
       "    <tr>\n",
       "      <th>70970</th>\n",
       "      <td>70970</td>\n",
       "      <td>ICCCCC[C@](COC)(C[C@H]1C(=O)OC)C(=O)[C@@H]([C@...</td>\n",
       "      <td>mu_rat_Ki_all_inactives_1006_structures.sdf:105</td>\n",
       "      <td>train</td>\n",
       "    </tr>\n",
       "    <tr>\n",
       "      <th>71006</th>\n",
       "      <td>71006</td>\n",
       "      <td>CCN(CC)C(=O)c1ccc(cc1)N(c2cccc(c2)OC)[C@@H](C[...</td>\n",
       "      <td>mu_rat_Ki_all_inactives_1006_structures.sdf:97</td>\n",
       "      <td>train</td>\n",
       "    </tr>\n",
       "    <tr>\n",
       "      <th>71011</th>\n",
       "      <td>71011</td>\n",
       "      <td>c1cc(O)c(O2)c3c1C[C@@H]([N@@H+](CC4)CC5CC5)[C@...</td>\n",
       "      <td>mu_rat_Ki_all_inactives_1006_structures.sdf:286</td>\n",
       "      <td>val</td>\n",
       "    </tr>\n",
       "  </tbody>\n",
       "</table>\n",
       "<p>6918 rows × 4 columns</p>\n",
       "</div>"
      ],
      "text/plain": [
       "       Unnamed: 0                                             smiles  \\\n",
       "0               0  c1ccccc1N(CNC2=O)C23CCN(CC3)C(=O)OCc4cccc(c4)O...   \n",
       "1               1  c1cccc(c12)n(c(=O)[nH]2)C3CCN(CC3)C(=O)OCc(c4)...   \n",
       "3               3  COc1cc(N)c(Cl)cc1C(=O)NCC[N@H+](C)C[C@H](CCCC2...   \n",
       "5               5  Oc(c1)cccc1[C@@]2(O)[C@@H](CCCC2)C[N@H+](C[C@@...   \n",
       "6               6  O[C@@H]1CC[N@@H+](C1)C[C@@H](c2ccccc2)n3cccc(c...   \n",
       "...           ...                                                ...   \n",
       "70782       70782  CCO[C@@]1([C@@]234)[C@H](N(C)CC3)Cc5c4c(c(O)cc...   \n",
       "70807       70807  ICCOCC[C@](COC)(C[C@H]1C(=O)OC)C(=O)[C@@H]([C@...   \n",
       "70970       70970  ICCCCC[C@](COC)(C[C@H]1C(=O)OC)C(=O)[C@@H]([C@...   \n",
       "71006       71006  CCN(CC)C(=O)c1ccc(cc1)N(c2cccc(c2)OC)[C@@H](C[...   \n",
       "71011       71011  c1cc(O)c(O2)c3c1C[C@@H]([N@@H+](CC4)CC5CC5)[C@...   \n",
       "\n",
       "                                                   fname    set  \n",
       "0      mu_human_IC50_binding_all_inactives_450_struct...  train  \n",
       "1      mu_human_IC50_binding_all_inactives_450_struct...  train  \n",
       "3      mu_human_IC50_binding_all_inactives_450_struct...    val  \n",
       "5      mu_human_IC50_binding_all_inactives_450_struct...  train  \n",
       "6      mu_human_IC50_binding_all_inactives_450_struct...  train  \n",
       "...                                                  ...    ...  \n",
       "70782    mu_rat_Ki_all_inactives_1006_structures.sdf:209  train  \n",
       "70807     mu_rat_Ki_all_inactives_1006_structures.sdf:42  train  \n",
       "70970    mu_rat_Ki_all_inactives_1006_structures.sdf:105  train  \n",
       "71006     mu_rat_Ki_all_inactives_1006_structures.sdf:97  train  \n",
       "71011    mu_rat_Ki_all_inactives_1006_structures.sdf:286    val  \n",
       "\n",
       "[6918 rows x 4 columns]"
      ]
     },
     "execution_count": 1394,
     "metadata": {},
     "output_type": "execute_result"
    }
   ],
   "source": [
    "dframe"
   ]
  }
 ],
 "metadata": {
  "kernelspec": {
   "display_name": "drug-design",
   "language": "python",
   "name": "drug-design"
  },
  "language_info": {
   "codemirror_mode": {
    "name": "ipython",
    "version": 3
   },
   "file_extension": ".py",
   "mimetype": "text/x-python",
   "name": "python",
   "nbconvert_exporter": "python",
   "pygments_lexer": "ipython3",
   "version": "3.7.11"
  }
 },
 "nbformat": 4,
 "nbformat_minor": 5
}
