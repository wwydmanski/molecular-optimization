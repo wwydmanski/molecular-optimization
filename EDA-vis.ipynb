{
 "cells": [
  {
   "cell_type": "code",
   "execution_count": 212,
   "id": "ef4ec4f8-6613-47ae-bbb0-115eb12f9ec4",
   "metadata": {},
   "outputs": [],
   "source": [
    "import pandas as pd\n",
    "import numpy as np\n",
    "import matplotlib.pyplot as plt\n",
    "import seaborn as sns\n",
    "import glob\n",
    "from pprint import pprint\n",
    "\n",
    "from scipy.stats import chi2_contingency, ttest_ind"
   ]
  },
  {
   "cell_type": "code",
   "execution_count": 191,
   "id": "647c8892-c3eb-4577-8b6a-3faacd8433da",
   "metadata": {},
   "outputs": [
    {
     "name": "stderr",
     "output_type": "stream",
     "text": [
      "/home/wwydmanski/.conda/envs/drug-design/lib/python3.8/site-packages/IPython/core/interactiveshell.py:3444: DtypeWarning: Columns (2745,2754,2775,2776,2777,2778,2779,2781,2782,2788,2789,2790) have mixed types.Specify dtype option on import or set low_memory=False.\n",
      "  exec(code_obj, self.user_global_ns, self.user_ns)\n",
      "/home/wwydmanski/.conda/envs/drug-design/lib/python3.8/site-packages/IPython/core/interactiveshell.py:3444: DtypeWarning: Columns (2740,2746,2755,2778,2779,2780,2781,2782,2784,2785,2790,2791,2792,2793) have mixed types.Specify dtype option on import or set low_memory=False.\n",
      "  exec(code_obj, self.user_global_ns, self.user_ns)\n"
     ]
    }
   ],
   "source": [
    "data_active = pd.read_csv(\"data/mu_actives_Ki_IC50_human_and_rat_interaction_fingerprints_5c1m.csv\")\n",
    "data_inactive = pd.read_csv(\"data/mu_inactives_Ki_IC50_human_and_rat_interaction_fingerprints_5c1m.csv\")\n",
    "\n",
    "data = pd.concat((data_active, data_inactive))\n",
    "X = data.loc[:, data.columns.map(lambda x: x[0]=='A')].reset_index(drop=True)\n",
    "y = np.array([1]*len(data_active) + [0]*len(data_inactive))"
   ]
  },
  {
   "cell_type": "markdown",
   "id": "0fc2ffd6-7639-4725-8d17-8c2dbdbdc178",
   "metadata": {
    "tags": []
   },
   "source": [
    "## Feature selection"
   ]
  },
  {
   "cell_type": "markdown",
   "id": "3f51aad3-0016-4123-bb1f-8bd6523875be",
   "metadata": {},
   "source": [
    "### Remove columns that do not change"
   ]
  },
  {
   "cell_type": "code",
   "execution_count": 192,
   "id": "7e53bbc3-5e0a-4db7-923e-ac4d181b4a1a",
   "metadata": {},
   "outputs": [],
   "source": [
    "const_val = (X.max(axis=0)==X.min(axis=0))\n",
    "\n",
    "X = X.loc[:, ~const_val]"
   ]
  },
  {
   "cell_type": "markdown",
   "id": "01ae369b-3513-42ef-a204-9048b9bb6358",
   "metadata": {},
   "source": [
    "### Remove columns that do not correlate with target value\n",
    "We will be using chi-squared test for that. If the calculated p-val is <0.05 it means that we can reject the hypothesis of frequencies equality (so, in our case, it means that this _could_ potentially be an important variable).\n",
    "\n",
    "If the p-val >0.05, there is no statisticlly significant difference between the two cohorts, so we can probably just ignore this column."
   ]
  },
  {
   "cell_type": "code",
   "execution_count": 193,
   "id": "1edde292-e52f-4618-8a42-4c472a765535",
   "metadata": {},
   "outputs": [],
   "source": [
    "def check_chi2(col):\n",
    "    X_true = X.loc[y==1, col].values\n",
    "    X_false = X.loc[y==0, col].values\n",
    "\n",
    "    freqs = np.array([[np.sum(X_true==0), np.sum(X_true==1)],\n",
    "                      [np.sum(X_false==0), np.sum(X_false==1)]])\n",
    "    chi2, p, dof, ex = chi2_contingency(freqs)    \n",
    "    return p<0.05"
   ]
  },
  {
   "cell_type": "code",
   "execution_count": 194,
   "id": "57215423-d1ad-4392-a5e4-c05e6e61ba9a",
   "metadata": {},
   "outputs": [],
   "source": [
    "correlating = X.columns[X.columns.map(check_chi2)]"
   ]
  },
  {
   "cell_type": "code",
   "execution_count": 195,
   "id": "aea861b3-cb66-4f3e-9e6d-2756e125399a",
   "metadata": {},
   "outputs": [],
   "source": [
    "X = X.loc[:, correlating]"
   ]
  },
  {
   "cell_type": "code",
   "execution_count": 196,
   "id": "11f5b9cb-416d-4428-b5f9-6352f0efd938",
   "metadata": {},
   "outputs": [
    {
     "data": {
      "text/plain": [
       "Index(['A54_contact', 'A54_backbone', 'A54_sidechain', 'A54_polar',\n",
       "       'A54_acceptor', 'A55_contact', 'A55_backbone', 'A55_sidechain',\n",
       "       'A55_polar', 'A55_acceptor',\n",
       "       ...\n",
       "       'A326_hydrophobic', 'A326_donor', 'A326_aromatic', 'A328_contact',\n",
       "       'A328_sidechain', 'A328_polar', 'A329_contact', 'A329_backbone',\n",
       "       'A329_sidechain', 'A329_polar'],\n",
       "      dtype='object', length=147)"
      ]
     },
     "execution_count": 196,
     "metadata": {},
     "output_type": "execute_result"
    }
   ],
   "source": [
    "correlating"
   ]
  },
  {
   "cell_type": "markdown",
   "id": "76e0fff1-82bf-41d0-bf02-dc9c9ee5d79a",
   "metadata": {},
   "source": [
    "### Remove identical columns\n",
    "Hey, there might be some"
   ]
  },
  {
   "cell_type": "code",
   "execution_count": 197,
   "id": "2362614f-89d0-4564-96a8-344b9a179ec4",
   "metadata": {},
   "outputs": [],
   "source": [
    "def check_identity(col1, col2):\n",
    "    return not all(X[col1]==X[col2])\n",
    "\n",
    "class IdentityMap:\n",
    "    def __init__(self):\n",
    "        self.map = {}\n",
    "\n",
    "    def append(self, col1, col2):\n",
    "        root = None\n",
    "        for i in self.map.keys():\n",
    "            if col1 in self.map[i] or col2 in self.map[i]:\n",
    "                root = i\n",
    "                break\n",
    "        if root is None:\n",
    "            self.map[col1] = []\n",
    "            root = col1\n",
    "        \n",
    "        self.map[root].extend([col1, col2])\n",
    "        self.map[root] = list(set(self.map[root]))"
   ]
  },
  {
   "cell_type": "code",
   "execution_count": 198,
   "id": "687773df-04f4-42a7-9835-7e6ec80b2e08",
   "metadata": {},
   "outputs": [],
   "source": [
    "identical = IdentityMap()\n",
    "        \n",
    "for col1 in X.columns:\n",
    "    for col2 in X.columns:\n",
    "        if col1 == col2:\n",
    "            continue\n",
    "        if not check_identity(col1, col2):\n",
    "            identical.append(col1, col2)"
   ]
  },
  {
   "cell_type": "code",
   "execution_count": 199,
   "id": "5d025917-53c4-4f82-83e5-91ff926eae98",
   "metadata": {},
   "outputs": [],
   "source": [
    "redundant = []\n",
    "for i in identical.map.keys():\n",
    "    for col in identical.map[i]:\n",
    "        if i!=col:\n",
    "            redundant.append(col)"
   ]
  },
  {
   "cell_type": "code",
   "execution_count": 200,
   "id": "8bd7627c-f0a6-4fc1-ae67-ce6f0b85b77e",
   "metadata": {},
   "outputs": [],
   "source": [
    "X = X.loc[:, ~X.columns.isin(redundant)]"
   ]
  },
  {
   "cell_type": "markdown",
   "id": "14218c36-5f47-436e-900d-bca7ad50014f",
   "metadata": {},
   "source": [
    "### Get final columns"
   ]
  },
  {
   "cell_type": "code",
   "execution_count": 126,
   "id": "bc2e8dd6-281f-490f-9188-4eb4381957d2",
   "metadata": {},
   "outputs": [],
   "source": [
    "X.columns.to_frame().to_csv(\"significant_cols.csv\", index=False)"
   ]
  },
  {
   "cell_type": "markdown",
   "id": "b97d82ad-b4be-4c7c-a2ab-e9ae9eb16a27",
   "metadata": {},
   "source": [
    "## Difference analysis"
   ]
  },
  {
   "cell_type": "markdown",
   "id": "2e52aa92-2fd6-4cbc-9feb-7c35b9d34b24",
   "metadata": {},
   "source": [
    "### Interactions"
   ]
  },
  {
   "cell_type": "code",
   "execution_count": 241,
   "id": "cc398789-2b7c-4e1c-81d9-8a66eaad3723",
   "metadata": {},
   "outputs": [],
   "source": [
    "try:\n",
    "    del X[\"active\"]\n",
    "except KeyError:\n",
    "    pass\n",
    "X[\"active\"] = X.sum(axis=1)\n",
    "X[\"target\"] = y\n",
    "\n",
    "X_active = X.loc[y==1, X.columns[:-2]]\n",
    "X_inactive = X.loc[y==0, X.columns[:-2]]"
   ]
  },
  {
   "cell_type": "code",
   "execution_count": 242,
   "id": "18ff5495-a47c-49a6-a46a-fb706152dabc",
   "metadata": {},
   "outputs": [
    {
     "data": {
      "text/plain": [
       "active    35\n",
       "Name: 0, dtype: int64"
      ]
     },
     "execution_count": 242,
     "metadata": {},
     "output_type": "execute_result"
    }
   ],
   "source": [
    "X.iloc[0][X.iloc[0]>1]"
   ]
  },
  {
   "cell_type": "code",
   "execution_count": 243,
   "id": "4969e8fa-7606-4ae4-a6ce-8741f73e00dc",
   "metadata": {},
   "outputs": [
    {
     "data": {
      "image/png": "[encoded data removed]",
      "text/plain": [
       "<Figure size 1152x432 with 1 Axes>"
      ]
     },
     "metadata": {
      "needs_background": "light"
     },
     "output_type": "display_data"
    }
   ],
   "source": [
    "plt.figure(figsize=(16, 6))\n",
    "plt.bar(np.arange(len(X_active.columns)), (X_active.sum(axis=0)/len(X_active)), width=0.25, label=\"Active\")\n",
    "plt.bar(np.arange(len(X_active.columns))+0.25, (X_inactive.sum(axis=0)/len(X_inactive)), width=0.25, label=\"Inactive\")\n",
    "plt.legend();"
   ]
  },
  {
   "cell_type": "code",
   "execution_count": 244,
   "id": "919ce30e-080a-489a-a0ec-6f8a2d308ae5",
   "metadata": {},
   "outputs": [
    {
     "data": {
      "text/plain": [
       "<seaborn.axisgrid.FacetGrid at 0x7fbd5c185b80>"
      ]
     },
     "execution_count": 244,
     "metadata": {},
     "output_type": "execute_result"
    },
    {
     "data": {
      "image/png": "[encoded data removed]",
      "text/plain": [
       "<Figure size 402.375x360 with 1 Axes>"
      ]
     },
     "metadata": {
      "needs_background": "light"
     },
     "output_type": "display_data"
    }
   ],
   "source": [
    "sns.displot(X, x=\"active\", hue=\"target\", kind='kde')"
   ]
  },
  {
   "cell_type": "code",
   "execution_count": 245,
   "id": "5f8ee469-7402-4e79-b07d-a6fdda5dba4d",
   "metadata": {},
   "outputs": [
    {
     "data": {
      "text/plain": [
       "Ttest_indResult(statistic=3.564007603140125, pvalue=0.0003658393821058507)"
      ]
     },
     "execution_count": 245,
     "metadata": {},
     "output_type": "execute_result"
    }
   ],
   "source": [
    "ttest_ind(X_active.sum(axis=1), X_inactive.sum(axis=1))"
   ]
  },
  {
   "cell_type": "markdown",
   "id": "77ad8209-513a-4cdf-8924-e4db9f8c9e8c",
   "metadata": {},
   "source": [
    "The difference is not big, but it's statistically significant - active compounds have more interactions with receptor"
   ]
  },
  {
   "cell_type": "markdown",
   "id": "4ea81c32-64d8-4bb5-a857-c3bf2316e695",
   "metadata": {},
   "source": [
    "### Nucleotides connections"
   ]
  },
  {
   "cell_type": "code",
   "execution_count": 222,
   "id": "07bdce86-85ee-4d91-821e-5c318f7baa79",
   "metadata": {},
   "outputs": [],
   "source": [
    "X_collapsed = {}\n",
    "nucleotides = list(set(x.split(\"_\")[0] for x in X.columns if x[0]==\"A\"))"
   ]
  },
  {
   "cell_type": "code",
   "execution_count": 228,
   "id": "5b5ae4e8-c894-4ceb-99b1-debe56d78f27",
   "metadata": {},
   "outputs": [],
   "source": [
    "for nuc in nucleotides:\n",
    "    X_collapsed[nuc] = X.loc[:, X.columns.map(lambda x: x.split(\"_\")[0]==nuc)].max(axis=1)"
   ]
  },
  {
   "cell_type": "code",
   "execution_count": 231,
   "id": "34977cdf-f64d-4c2e-895f-12cb6a5a5a2d",
   "metadata": {},
   "outputs": [],
   "source": [
    "X_collapsed = pd.DataFrame.from_dict(X_collapsed)\n",
    "X_collapsed[\"target\"] = X[\"target\"]\n",
    "X_collapsed[\"active\"] = X_collapsed.sum(axis=1)"
   ]
  },
  {
   "cell_type": "code",
   "execution_count": 232,
   "id": "c708ff01-1f7d-4add-bbc7-d641aab5f304",
   "metadata": {},
   "outputs": [
    {
     "data": {
      "text/plain": [
       "<seaborn.axisgrid.FacetGrid at 0x7fbd665807f0>"
      ]
     },
     "execution_count": 232,
     "metadata": {},
     "output_type": "execute_result"
    },
    {
     "data": {
      "image/png": "[encoded data removed]",
      "text/plain": [
       "<Figure size 402.375x360 with 1 Axes>"
      ]
     },
     "metadata": {
      "needs_background": "light"
     },
     "output_type": "display_data"
    }
   ],
   "source": [
    "sns.displot(X_collapsed, x=\"active\", hue=\"target\", kind='kde')"
   ]
  },
  {
   "cell_type": "code",
   "execution_count": 234,
   "id": "ffa0a292-ba66-455c-9756-4a7b4a81d0f1",
   "metadata": {},
   "outputs": [
    {
     "data": {
      "text/plain": [
       "Ttest_indResult(statistic=32.246901963144346, pvalue=4.650911163518952e-224)"
      ]
     },
     "execution_count": 234,
     "metadata": {},
     "output_type": "execute_result"
    }
   ],
   "source": [
    "ttest_ind(X_collapsed[X_collapsed[\"target\"]==1][\"active\"], X_collapsed[X_collapsed[\"target\"]==0][\"active\"])"
   ]
  },
  {
   "cell_type": "markdown",
   "id": "30fde2e8-9206-436c-9741-57e8edfd2fa7",
   "metadata": {},
   "source": [
    "Additionally, active compounds usually interact with more nucleotides at once"
   ]
  }
 ],
 "metadata": {
  "kernelspec": {
   "display_name": "drug-design",
   "language": "python",
   "name": "drug-design"
  },
  "language_info": {
   "codemirror_mode": {
    "name": "ipython",
    "version": 3
   },
   "file_extension": ".py",
   "mimetype": "text/x-python",
   "name": "python",
   "nbconvert_exporter": "python",
   "pygments_lexer": "ipython3",
   "version": "3.7.11"
  }
 },
 "nbformat": 4,
 "nbformat_minor": 5
}
